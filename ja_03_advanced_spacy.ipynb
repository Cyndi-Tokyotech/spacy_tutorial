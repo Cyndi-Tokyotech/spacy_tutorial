{
 "cells": [
  {
   "cell_type": "markdown",
   "metadata": {},
   "source": [
    "# spaCyチュートリアル\n",
    "#### 03 spaCy上級"
   ]
  },
  {
   "cell_type": "code",
   "execution_count": 1,
   "metadata": {},
   "outputs": [],
   "source": [
    "%matplotlib inline\n",
    "import spacy\n",
    "from spacy.gold import GoldParse\n",
    "from spacy.scorer import Scorer\n",
    "from spacy.util import decaying, minibatch, compounding\n",
    "import pandas as pd\n",
    "import numpy as np\n",
    "import random\n",
    "from sklearn.metrics import precision_score, recall_score, confusion_matrix, accuracy_score, f1_score, roc_auc_score, roc_curve\n",
    "import matplotlib.pyplot as plt\n",
    "import seaborn as sns\n",
    "import scikitplot.plotters as skplt"
   ]
  },
  {
   "cell_type": "markdown",
   "metadata": {},
   "source": [
    "## GPUの使用  \n",
    "GPU版spaCyは対応するCUDAバージョンを指定してインストールします。GPU版spaCyはNumPyの代わりにGPUで高速計算可能な[CuPy](http://learningsys.org/nips17/assets/papers/paper_16.pdf)を使用しています"
   ]
  },
  {
   "cell_type": "code",
   "execution_count": 2,
   "metadata": {},
   "outputs": [],
   "source": [
    "# !pip install -U spacy[cuda100]"
   ]
  },
  {
   "cell_type": "code",
   "execution_count": 2,
   "metadata": {},
   "outputs": [
    {
     "data": {
      "text/plain": [
       "True"
      ]
     },
     "execution_count": 2,
     "metadata": {},
     "output_type": "execute_result"
    }
   ],
   "source": [
    "# GPUが有効か確認する\n",
    "spacy.prefer_gpu()"
   ]
  },
  {
   "cell_type": "code",
   "execution_count": 3,
   "metadata": {},
   "outputs": [
    {
     "data": {
      "text/plain": [
       "<CUDA Device 0>"
      ]
     },
     "execution_count": 3,
     "metadata": {},
     "output_type": "execute_result"
    }
   ],
   "source": [
    "# 最初のGPUカードを使用する\n",
    "spacy.util.use_gpu(0)"
   ]
  },
  {
   "cell_type": "markdown",
   "metadata": {},
   "source": [
    "## モデル学習"
   ]
  },
  {
   "cell_type": "markdown",
   "metadata": {},
   "source": [
    "SpaCyのモデルを一から学習したり、学習済みモデルを再学習することが可能です。文書分類や固有表現抽出には特に有効です。  \n",
    "\n",
    "1. ランダムな重みでモデルを初期化する。`nlp.begin_training`\n",
    "2. 現在の重みで学習データの内複数のデータを予測する。 `nlp.update`\n",
    "3. 予測と正解ラベルを比べる。\n",
    "4. 精度を向上させるように重みの更新方法を計算する（勾配）。\n",
    "5. 重みを若干更新する。\n",
    "6. 2から5を繰り返す。  \n",
    "\n",
    "ここでは実際に固有表現抽出モデルを学習します。  \n",
    "\n",
    "![model_training](img/model_training.png)  \n",
    "\n",
    "使うデータは[Hironsanの日本語用NERデータ](https://github.com/Hironsan/IOB2Corpus/blob/master/hironsan.txt)です。"
   ]
  },
  {
   "cell_type": "code",
   "execution_count": 28,
   "metadata": {},
   "outputs": [],
   "source": [
    "# !wget https://github.com/Hironsan/IOB2Corpus/raw/master/hironsan.txt -P data"
   ]
  },
  {
   "cell_type": "markdown",
   "metadata": {},
   "source": [
    "### 日本語用NERデータをspaCy用に変換する"
   ]
  },
  {
   "cell_type": "code",
   "execution_count": 42,
   "metadata": {},
   "outputs": [],
   "source": [
    "def spaCy用nerデータ変換(ファイル名:str=None):\n",
    "    try:\n",
    "        ファイル=open(ファイル名, 'r')\n",
    "        全データリスト = []\n",
    "        文章 = ''\n",
    "        開始 = 0\n",
    "        データタプル = ()\n",
    "        ラベル辞書 = {}\n",
    "        固有表現リスト = []\n",
    "\n",
    "        for 行数, ライン in enumerate(ファイル, 1):\n",
    "            if ライン == '\\n':\n",
    "                全データリスト.append((文章, {\"entities\": 固有表現リスト}))\n",
    "                文章 = ''\n",
    "                開始 = 0\n",
    "                データタプル = ()\n",
    "                ラベル辞書 = {}\n",
    "                固有表現リスト = []\n",
    "\n",
    "            if ライン != '\\n':\n",
    "                ラインパース = ライン.split('\\t')\n",
    "                単語 = ラインパース[0]\n",
    "                固有表現 = ラインパース[len(ラインパース) - 1]\n",
    "                文章 += 単語.strip() + \" \"\n",
    "                固有表現 = 固有表現.strip()\n",
    "\n",
    "                if 固有表現 != 'O':\n",
    "                    固有表現 = 固有表現.split(\"-\")[1]\n",
    "                    開始位置 = 開始\n",
    "                    終了位置 = 開始 + len(単語)\n",
    "                    固有表現リスト.append((開始位置, 終了位置, 固有表現))\n",
    "\n",
    "                開始+=len(単語)+1\n",
    "    except:\n",
    "        print(\"しんでしまうとはなさけない\")\n",
    "        return None\n",
    "    return 全データリスト"
   ]
  },
  {
   "cell_type": "code",
   "execution_count": 43,
   "metadata": {},
   "outputs": [],
   "source": [
    "全データ = spaCy用nerデータ変換('data/hironsan.txt')"
   ]
  },
  {
   "cell_type": "code",
   "execution_count": 45,
   "metadata": {},
   "outputs": [
    {
     "data": {
      "text/plain": [
       "500"
      ]
     },
     "execution_count": 45,
     "metadata": {},
     "output_type": "execute_result"
    }
   ],
   "source": [
    "len(all_data)"
   ]
  },
  {
   "cell_type": "code",
   "execution_count": 46,
   "metadata": {},
   "outputs": [],
   "source": [
    "# 学習データと評価データに分ける\n",
    "学習データ = 全データ[0:400]\n",
    "評価データ = 全データ[400:]"
   ]
  },
  {
   "cell_type": "code",
   "execution_count": 58,
   "metadata": {},
   "outputs": [
    {
     "data": {
      "text/plain": [
       "(400, 100)"
      ]
     },
     "execution_count": 58,
     "metadata": {},
     "output_type": "execute_result"
    }
   ],
   "source": [
    "len(学習データ), len(評価データ)"
   ]
  },
  {
   "cell_type": "markdown",
   "metadata": {},
   "source": [
    "### 固有表現抽出を学習する"
   ]
  },
  {
   "cell_type": "code",
   "execution_count": 59,
   "metadata": {},
   "outputs": [],
   "source": [
    "random.seed(0)\n",
    "\n",
    "# \"ja\"だとMeCabが必要だと怒られるので\"en\"で初期化。既に分かち書きされているので問題ないはず。\n",
    "nlp = spacy.blank(\"en\")\n",
    "ner = nlp.create_pipe(\"ner\")\n",
    "nlp.add_pipe(ner)\n",
    "\n",
    "# BILUO方式に変換する\n",
    "for _, アノテーション in 学習データ:\n",
    "    for 固有表現 in アノテーション.get(\"entities\"):\n",
    "        ner.add_label(固有表現[2])\n",
    "\n",
    "# Adam (1e-3, beta1=0.9, beta2-0.999, L2=1e-6)\n",
    "最適化法 = nlp.begin_training(device=0)\n",
    "    \n",
    "一意固有表現 = list(ner.move_names)\n",
    "\n",
    "# 不要なパイプラインを無効にするためコンポーネント名を所得する\n",
    "不要パイプ = [パイプ for パイプ in nlp.pipe_names if パイプ != \"ner\"]"
   ]
  },
  {
   "cell_type": "code",
   "execution_count": 60,
   "metadata": {},
   "outputs": [
    {
     "data": {
      "text/plain": [
       "['O',\n",
       " 'B-DAT',\n",
       " 'I-DAT',\n",
       " 'L-DAT',\n",
       " 'U-DAT',\n",
       " 'B-LOC',\n",
       " 'I-LOC',\n",
       " 'L-LOC',\n",
       " 'U-LOC',\n",
       " 'B-ORG',\n",
       " 'I-ORG',\n",
       " 'L-ORG',\n",
       " 'U-ORG',\n",
       " 'B-ART',\n",
       " 'I-ART',\n",
       " 'L-ART',\n",
       " 'U-ART',\n",
       " 'B-PSN',\n",
       " 'I-PSN',\n",
       " 'L-PSN',\n",
       " 'U-PSN',\n",
       " 'B-TIM',\n",
       " 'I-TIM',\n",
       " 'L-TIM',\n",
       " 'U-TIM',\n",
       " 'B-PNT',\n",
       " 'I-PNT',\n",
       " 'L-PNT',\n",
       " 'U-PNT',\n",
       " 'B-MNY',\n",
       " 'I-MNY',\n",
       " 'L-MNY',\n",
       " 'U-MNY']"
      ]
     },
     "execution_count": 60,
     "metadata": {},
     "output_type": "execute_result"
    }
   ],
   "source": [
    "一意固有表現"
   ]
  },
  {
   "cell_type": "code",
   "execution_count": 61,
   "metadata": {},
   "outputs": [],
   "source": [
    "# 評価関数\n",
    "def 固有表現評価(nlp:spacy.lang.en.English=None, 評価データ:list=None):\n",
    "    scorer = Scorer()\n",
    "    \n",
    "    for テキスト, アノテーション in 評価データ:\n",
    "        文章 = nlp(テキスト)\n",
    "        ラベル = GoldParse(文章, entities=アノテーション['entities'])\n",
    "        scorer.score(文章, ラベル)\n",
    "        \n",
    "    return scorer.scores"
   ]
  },
  {
   "cell_type": "code",
   "execution_count": 65,
   "metadata": {},
   "outputs": [],
   "source": [
    "def 固有表現学習(エポック数:int=5, 学習データ:list=None, 評価データ:list=None, 最大バッチ数:int=32):\n",
    "    with nlp.disable_pipes(*不要パイプ):  # 固有表現抽出だけ学習\n",
    "        学習状況 = []\n",
    "        ドロップアウト = decaying(0.5, 0.2, 0.3) # ドロップアウトを0.5から0.2に徐々に減少させる\n",
    "        バッチ数 = compounding(4.0, 最大バッチ数, 1.001)\n",
    "        \n",
    "        for エポック in range(エポック数):\n",
    "            random.shuffle(学習データ)\n",
    "            全バッチ = minibatch(学習データ, size=バッチ数)\n",
    "            損失 = {}\n",
    "\n",
    "            for バッチ in 全バッチ:\n",
    "                テキスト, ラベル = zip(*バッチ)\n",
    "                nlp.update(\n",
    "                    テキスト, \n",
    "                    ラベル, \n",
    "                    drop = next(ドロップアウト),\n",
    "                    sgd = 最適化法,\n",
    "                    losses=損失)\n",
    "            \n",
    "            print(f\"エポック: {エポック+1}\")\n",
    "            print(f\"損失: {損失}\")\n",
    "            評価スコア = 固有表現評価(nlp, 評価データ)\n",
    "            print(評価スコア)\n",
    "\n",
    "            学習状況.append(損失)\n",
    "            学習状況.append(評価スコア)"
   ]
  },
  {
   "cell_type": "code",
   "execution_count": 66,
   "metadata": {},
   "outputs": [
    {
     "name": "stdout",
     "output_type": "stream",
     "text": [
      "エポック: 1\n",
      "損失: {'ner': 3599.727813688958}\n",
      "{'uas': 0.0, 'las': 0.0, 'las_per_type': {'': {'p': 0.0, 'r': 0.0, 'f': 0.0}}, 'ents_p': 68.50828729281768, 'ents_r': 25.101214574898783, 'ents_f': 36.74074074074074, 'ents_per_type': {'DAT': {'p': 68.88888888888889, 'r': 86.91588785046729, 'f': 76.85950413223141}, 'ART': {'p': 0.0, 'r': 0.0, 'f': 0.0}, 'ORG': {'p': 0.0, 'r': 0.0, 'f': 0.0}, 'LOC': {'p': 67.3913043478261, 'r': 20.26143790849673, 'f': 31.155778894472363}, 'MNY': {'p': 0.0, 'r': 0.0, 'f': 0.0}, 'PNT': {'p': 0.0, 'r': 0.0, 'f': 0.0}, 'PSN': {'p': 0.0, 'r': 0.0, 'f': 0.0}, 'TIM': {'p': 0.0, 'r': 0.0, 'f': 0.0}}, 'tags_acc': 0.0, 'token_acc': 100.0, 'textcat_score': 0.0, 'textcats_per_cat': {}}\n",
      "エポック: 2\n",
      "損失: {'ner': 1928.4850302033924}\n",
      "{'uas': 0.0, 'las': 0.0, 'las_per_type': {'': {'p': 0.0, 'r': 0.0, 'f': 0.0}}, 'ents_p': 68.70503597122301, 'ents_r': 38.663967611336034, 'ents_f': 49.48186528497409, 'ents_per_type': {'ORG': {'p': 11.76470588235294, 'r': 2.3529411764705883, 'f': 3.9215686274509802}, 'DAT': {'p': 88.88888888888889, 'r': 82.2429906542056, 'f': 85.43689320388349}, 'ART': {'p': 23.076923076923077, 'r': 5.0, 'f': 8.219178082191782}, 'PSN': {'p': 16.666666666666664, 'r': 23.076923076923077, 'f': 19.35483870967742}, 'LOC': {'p': 63.1578947368421, 'r': 39.21568627450981, 'f': 48.38709677419355}, 'MNY': {'p': 0.0, 'r': 0.0, 'f': 0.0}, 'PNT': {'p': 0.0, 'r': 0.0, 'f': 0.0}, 'TIM': {'p': 97.22222222222221, 'r': 70.0, 'f': 81.3953488372093}}, 'tags_acc': 0.0, 'token_acc': 100.0, 'textcat_score': 0.0, 'textcats_per_cat': {}}\n",
      "エポック: 3\n",
      "損失: {'ner': 1358.653115204549}\n",
      "{'uas': 0.0, 'las': 0.0, 'las_per_type': {'': {'p': 0.0, 'r': 0.0, 'f': 0.0}}, 'ents_p': 75.15527950310559, 'ents_r': 48.987854251012145, 'ents_f': 59.31372549019608, 'ents_per_type': {'ORG': {'p': 34.090909090909086, 'r': 17.647058823529413, 'f': 23.25581395348837}, 'DAT': {'p': 97.16981132075472, 'r': 96.26168224299066, 'f': 96.71361502347416}, 'PSN': {'p': 5.263157894736842, 'r': 7.6923076923076925, 'f': 6.25}, 'LOC': {'p': 76.28865979381443, 'r': 48.36601307189542, 'f': 59.199999999999996}, 'ART': {'p': 66.66666666666666, 'r': 6.666666666666667, 'f': 12.12121212121212}, 'MNY': {'p': 0.0, 'r': 0.0, 'f': 0.0}, 'PNT': {'p': 0.0, 'r': 0.0, 'f': 0.0}, 'TIM': {'p': 90.0, 'r': 90.0, 'f': 90.0}}, 'tags_acc': 0.0, 'token_acc': 100.0, 'textcat_score': 0.0, 'textcats_per_cat': {}}\n",
      "エポック: 4\n",
      "損失: {'ner': 828.6528766534564}\n",
      "{'uas': 0.0, 'las': 0.0, 'las_per_type': {'': {'p': 0.0, 'r': 0.0, 'f': 0.0}}, 'ents_p': 70.92391304347827, 'ents_r': 52.834008097166, 'ents_f': 60.556844547563806, 'ents_per_type': {'ORG': {'p': 43.75, 'r': 24.705882352941178, 'f': 31.57894736842105}, 'DAT': {'p': 92.3076923076923, 'r': 89.7196261682243, 'f': 90.99526066350711}, 'LOC': {'p': 70.94017094017094, 'r': 54.248366013071895, 'f': 61.48148148148148}, 'ART': {'p': 66.66666666666666, 'r': 23.333333333333332, 'f': 34.567901234567906}, 'PSN': {'p': 12.0, 'r': 23.076923076923077, 'f': 15.789473684210526}, 'TIM': {'p': 83.01886792452831, 'r': 88.0, 'f': 85.43689320388349}, 'MNY': {'p': 0.0, 'r': 0.0, 'f': 0.0}, 'PNT': {'p': 0.0, 'r': 0.0, 'f': 0.0}}, 'tags_acc': 0.0, 'token_acc': 100.0, 'textcat_score': 0.0, 'textcats_per_cat': {}}\n",
      "エポック: 5\n",
      "損失: {'ner': 453.1616551496313}\n",
      "{'uas': 0.0, 'las': 0.0, 'las_per_type': {'': {'p': 0.0, 'r': 0.0, 'f': 0.0}}, 'ents_p': 64.26799007444168, 'ents_r': 52.42914979757085, 'ents_f': 57.74804905239688, 'ents_per_type': {'ORG': {'p': 51.92307692307693, 'r': 31.76470588235294, 'f': 39.41605839416058}, 'DAT': {'p': 90.47619047619048, 'r': 88.78504672897196, 'f': 89.62264150943396}, 'ART': {'p': 56.25, 'r': 15.0, 'f': 23.684210526315784}, 'PSN': {'p': 7.142857142857142, 'r': 30.76923076923077, 'f': 11.594202898550726}, 'LOC': {'p': 68.75, 'r': 50.326797385620914, 'f': 58.11320754716981}, 'TIM': {'p': 77.58620689655173, 'r': 90.0, 'f': 83.33333333333334}, 'MNY': {'p': 0.0, 'r': 0.0, 'f': 0.0}, 'PNT': {'p': 50.0, 'r': 16.666666666666664, 'f': 25.0}}, 'tags_acc': 0.0, 'token_acc': 100.0, 'textcat_score': 0.0, 'textcats_per_cat': {}}\n",
      "エポック: 6\n",
      "損失: {'ner': 359.17208375182776}\n",
      "{'uas': 0.0, 'las': 0.0, 'las_per_type': {'': {'p': 0.0, 'r': 0.0, 'f': 0.0}}, 'ents_p': 72.47956403269755, 'ents_r': 53.84615384615385, 'ents_f': 61.788617886178855, 'ents_per_type': {'ORG': {'p': 53.57142857142857, 'r': 35.294117647058826, 'f': 42.5531914893617}, 'DAT': {'p': 94.28571428571428, 'r': 92.5233644859813, 'f': 93.39622641509435}, 'ART': {'p': 73.33333333333333, 'r': 18.333333333333332, 'f': 29.33333333333333}, 'LOC': {'p': 74.50980392156863, 'r': 49.673202614379086, 'f': 59.60784313725491}, 'PSN': {'p': 10.81081081081081, 'r': 30.76923076923077, 'f': 16.0}, 'MNY': {'p': 0.0, 'r': 0.0, 'f': 0.0}, 'PNT': {'p': 50.0, 'r': 8.333333333333332, 'f': 14.285714285714285}, 'TIM': {'p': 90.0, 'r': 90.0, 'f': 90.0}}, 'tags_acc': 0.0, 'token_acc': 100.0, 'textcat_score': 0.0, 'textcats_per_cat': {}}\n",
      "エポック: 7\n",
      "損失: {'ner': 268.7846817524282}\n",
      "{'uas': 0.0, 'las': 0.0, 'las_per_type': {'': {'p': 0.0, 'r': 0.0, 'f': 0.0}}, 'ents_p': 70.3896103896104, 'ents_r': 54.8582995951417, 'ents_f': 61.66097838452787, 'ents_per_type': {'ORG': {'p': 47.76119402985074, 'r': 37.64705882352941, 'f': 42.105263157894726}, 'DAT': {'p': 93.20388349514563, 'r': 89.7196261682243, 'f': 91.42857142857143}, 'ART': {'p': 75.0, 'r': 15.0, 'f': 24.999999999999996}, 'LOC': {'p': 70.33898305084746, 'r': 54.248366013071895, 'f': 61.25461254612545}, 'PSN': {'p': 10.0, 'r': 23.076923076923077, 'f': 13.953488372093023}, 'MNY': {'p': 0.0, 'r': 0.0, 'f': 0.0}, 'PNT': {'p': 0.0, 'r': 0.0, 'f': 0.0}, 'TIM': {'p': 88.88888888888889, 'r': 96.0, 'f': 92.3076923076923}}, 'tags_acc': 0.0, 'token_acc': 100.0, 'textcat_score': 0.0, 'textcats_per_cat': {}}\n",
      "エポック: 8\n",
      "損失: {'ner': 173.19859233780082}\n",
      "{'uas': 0.0, 'las': 0.0, 'las_per_type': {'': {'p': 0.0, 'r': 0.0, 'f': 0.0}}, 'ents_p': 72.95285359801488, 'ents_r': 59.51417004048582, 'ents_f': 65.55183946488293, 'ents_per_type': {'ORG': {'p': 60.46511627906976, 'r': 30.58823529411765, 'f': 40.625}, 'DAT': {'p': 96.29629629629629, 'r': 97.19626168224299, 'f': 96.74418604651163}, 'ART': {'p': 63.1578947368421, 'r': 40.0, 'f': 48.97959183673469}, 'LOC': {'p': 71.7948717948718, 'r': 54.90196078431373, 'f': 62.222222222222236}, 'TIM': {'p': 77.77777777777779, 'r': 98.0, 'f': 86.72566371681417}, 'PSN': {'p': 13.333333333333334, 'r': 30.76923076923077, 'f': 18.6046511627907}, 'MNY': {'p': 100.0, 'r': 7.142857142857142, 'f': 13.333333333333334}, 'PNT': {'p': 66.66666666666666, 'r': 16.666666666666664, 'f': 26.666666666666668}}, 'tags_acc': 0.0, 'token_acc': 100.0, 'textcat_score': 0.0, 'textcats_per_cat': {}}\n",
      "エポック: 9\n",
      "損失: {'ner': 177.61517580836056}\n",
      "{'uas': 0.0, 'las': 0.0, 'las_per_type': {'': {'p': 0.0, 'r': 0.0, 'f': 0.0}}, 'ents_p': 72.98850574712644, 'ents_r': 51.417004048582996, 'ents_f': 60.33254156769596, 'ents_per_type': {'ORG': {'p': 53.48837209302325, 'r': 27.058823529411764, 'f': 35.93749999999999}, 'DAT': {'p': 89.0909090909091, 'r': 91.58878504672897, 'f': 90.32258064516128}, 'ART': {'p': 75.0, 'r': 15.0, 'f': 24.999999999999996}, 'PSN': {'p': 9.67741935483871, 'r': 23.076923076923077, 'f': 13.636363636363635}, 'LOC': {'p': 74.76635514018692, 'r': 52.28758169934641, 'f': 61.53846153846154}, 'TIM': {'p': 91.11111111111111, 'r': 82.0, 'f': 86.31578947368422}, 'MNY': {'p': 0.0, 'r': 0.0, 'f': 0.0}, 'PNT': {'p': 0.0, 'r': 0.0, 'f': 0.0}}, 'tags_acc': 0.0, 'token_acc': 100.0, 'textcat_score': 0.0, 'textcats_per_cat': {}}\n",
      "エポック: 10\n",
      "損失: {'ner': 136.83619219367685}\n",
      "{'uas': 0.0, 'las': 0.0, 'las_per_type': {'': {'p': 0.0, 'r': 0.0, 'f': 0.0}}, 'ents_p': 70.32418952618454, 'ents_r': 57.08502024291497, 'ents_f': 63.016759776536304, 'ents_per_type': {'ORG': {'p': 59.45945945945946, 'r': 25.882352941176475, 'f': 36.0655737704918}, 'DAT': {'p': 97.0, 'r': 90.65420560747664, 'f': 93.71980676328504}, 'LOC': {'p': 67.71653543307087, 'r': 56.209150326797385, 'f': 61.42857142857143}, 'ART': {'p': 68.57142857142857, 'r': 40.0, 'f': 50.52631578947368}, 'PSN': {'p': 8.823529411764707, 'r': 23.076923076923077, 'f': 12.765957446808512}, 'MNY': {'p': 22.22222222222222, 'r': 14.285714285714285, 'f': 17.391304347826086}, 'PNT': {'p': 100.0, 'r': 8.333333333333332, 'f': 15.384615384615385}, 'TIM': {'p': 81.03448275862068, 'r': 94.0, 'f': 87.03703703703704}}, 'tags_acc': 0.0, 'token_acc': 100.0, 'textcat_score': 0.0, 'textcats_per_cat': {}}\n",
      "エポック: 11\n",
      "損失: {'ner': 131.92188445638823}\n",
      "{'uas': 0.0, 'las': 0.0, 'las_per_type': {'': {'p': 0.0, 'r': 0.0, 'f': 0.0}}, 'ents_p': 76.7379679144385, 'ents_r': 58.097165991902834, 'ents_f': 66.12903225806451, 'ents_per_type': {'ORG': {'p': 55.55555555555556, 'r': 29.411764705882355, 'f': 38.46153846153846}, 'DAT': {'p': 95.32710280373831, 'r': 95.32710280373831, 'f': 95.32710280373831}, 'LOC': {'p': 77.19298245614034, 'r': 57.51633986928104, 'f': 65.91760299625467}, 'ART': {'p': 70.37037037037037, 'r': 31.666666666666664, 'f': 43.67816091954023}, 'PSN': {'p': 14.285714285714285, 'r': 30.76923076923077, 'f': 19.51219512195122}, 'TIM': {'p': 92.15686274509804, 'r': 94.0, 'f': 93.06930693069307}, 'MNY': {'p': 0.0, 'r': 0.0, 'f': 0.0}, 'PNT': {'p': 100.0, 'r': 16.666666666666664, 'f': 28.57142857142857}}, 'tags_acc': 0.0, 'token_acc': 100.0, 'textcat_score': 0.0, 'textcats_per_cat': {}}\n",
      "エポック: 12\n",
      "損失: {'ner': 177.317019732165}\n",
      "{'uas': 0.0, 'las': 0.0, 'las_per_type': {'': {'p': 0.0, 'r': 0.0, 'f': 0.0}}, 'ents_p': 73.6413043478261, 'ents_r': 54.8582995951417, 'ents_f': 62.87703016241299, 'ents_per_type': {'ORG': {'p': 46.666666666666664, 'r': 24.705882352941178, 'f': 32.30769230769231}, 'DAT': {'p': 98.98989898989899, 'r': 91.58878504672897, 'f': 95.14563106796116}, 'LOC': {'p': 74.78260869565217, 'r': 56.209150326797385, 'f': 64.17910447761194}, 'ART': {'p': 80.0, 'r': 20.0, 'f': 32.00000000000001}, 'PSN': {'p': 10.256410256410255, 'r': 30.76923076923077, 'f': 15.384615384615385}, 'TIM': {'p': 90.38461538461539, 'r': 94.0, 'f': 92.15686274509804}, 'MNY': {'p': 0.0, 'r': 0.0, 'f': 0.0}, 'PNT': {'p': 100.0, 'r': 25.0, 'f': 40.0}}, 'tags_acc': 0.0, 'token_acc': 100.0, 'textcat_score': 0.0, 'textcats_per_cat': {}}\n",
      "エポック: 13\n",
      "損失: {'ner': 114.35590555000898}\n",
      "{'uas': 0.0, 'las': 0.0, 'las_per_type': {'': {'p': 0.0, 'r': 0.0, 'f': 0.0}}, 'ents_p': 80.59701492537313, 'ents_r': 54.655870445344135, 'ents_f': 65.13872135102532, 'ents_per_type': {'ORG': {'p': 62.16216216216216, 'r': 27.058823529411764, 'f': 37.70491803278688}, 'DAT': {'p': 98.9247311827957, 'r': 85.98130841121495, 'f': 92.0}, 'ART': {'p': 60.0, 'r': 35.0, 'f': 44.21052631578947}, 'PSN': {'p': 14.285714285714285, 'r': 23.076923076923077, 'f': 17.647058823529413}, 'LOC': {'p': 85.56701030927834, 'r': 54.248366013071895, 'f': 66.4}, 'MNY': {'p': 100.0, 'r': 7.142857142857142, 'f': 13.333333333333334}, 'PNT': {'p': 100.0, 'r': 8.333333333333332, 'f': 15.384615384615385}, 'TIM': {'p': 92.0, 'r': 92.0, 'f': 92.0}}, 'tags_acc': 0.0, 'token_acc': 100.0, 'textcat_score': 0.0, 'textcats_per_cat': {}}\n",
      "エポック: 14\n",
      "損失: {'ner': 92.85990258774032}\n",
      "{'uas': 0.0, 'las': 0.0, 'las_per_type': {'': {'p': 0.0, 'r': 0.0, 'f': 0.0}}, 'ents_p': 74.36619718309859, 'ents_r': 53.441295546558706, 'ents_f': 62.19081272084806, 'ents_per_type': {'ORG': {'p': 55.00000000000001, 'r': 25.882352941176475, 'f': 35.20000000000001}, 'DAT': {'p': 94.94949494949495, 'r': 87.85046728971963, 'f': 91.2621359223301}, 'ART': {'p': 69.23076923076923, 'r': 15.0, 'f': 24.65753424657534}, 'PSN': {'p': 13.333333333333334, 'r': 30.76923076923077, 'f': 18.6046511627907}, 'LOC': {'p': 72.26890756302521, 'r': 56.209150326797385, 'f': 63.235294117647065}, 'TIM': {'p': 90.0, 'r': 90.0, 'f': 90.0}, 'MNY': {'p': 0.0, 'r': 0.0, 'f': 0.0}, 'PNT': {'p': 100.0, 'r': 33.33333333333333, 'f': 50.0}}, 'tags_acc': 0.0, 'token_acc': 100.0, 'textcat_score': 0.0, 'textcats_per_cat': {}}\n",
      "エポック: 15\n",
      "損失: {'ner': 88.3552646888057}\n",
      "{'uas': 0.0, 'las': 0.0, 'las_per_type': {'': {'p': 0.0, 'r': 0.0, 'f': 0.0}}, 'ents_p': 76.68539325842697, 'ents_r': 55.26315789473685, 'ents_f': 64.23529411764707, 'ents_per_type': {'ORG': {'p': 57.77777777777777, 'r': 30.58823529411765, 'f': 40.0}, 'DAT': {'p': 95.0, 'r': 88.78504672897196, 'f': 91.78743961352657}, 'LOC': {'p': 71.7741935483871, 'r': 58.16993464052288, 'f': 64.25992779783394}, 'ART': {'p': 76.92307692307693, 'r': 16.666666666666664, 'f': 27.397260273972602}, 'PSN': {'p': 12.5, 'r': 15.384615384615385, 'f': 13.793103448275861}, 'TIM': {'p': 88.67924528301887, 'r': 94.0, 'f': 91.2621359223301}, 'MNY': {'p': 0.0, 'r': 0.0, 'f': 0.0}, 'PNT': {'p': 100.0, 'r': 33.33333333333333, 'f': 50.0}}, 'tags_acc': 0.0, 'token_acc': 100.0, 'textcat_score': 0.0, 'textcats_per_cat': {}}\n",
      "エポック: 16\n",
      "損失: {'ner': 96.90506646953392}\n",
      "{'uas': 0.0, 'las': 0.0, 'las_per_type': {'': {'p': 0.0, 'r': 0.0, 'f': 0.0}}, 'ents_p': 65.24822695035462, 'ents_r': 55.87044534412956, 'ents_f': 60.19629225736096, 'ents_per_type': {'ORG': {'p': 43.63636363636363, 'r': 28.235294117647058, 'f': 34.28571428571428}, 'DAT': {'p': 100.0, 'r': 92.5233644859813, 'f': 96.11650485436894}, 'LOC': {'p': 60.66666666666667, 'r': 59.47712418300654, 'f': 60.066006600660074}, 'ART': {'p': 71.42857142857143, 'r': 16.666666666666664, 'f': 27.027027027027028}, 'PSN': {'p': 5.128205128205128, 'r': 15.384615384615385, 'f': 7.6923076923076925}, 'TIM': {'p': 87.5, 'r': 98.0, 'f': 92.45283018867923}, 'MNY': {'p': 0.0, 'r': 0.0, 'f': 0.0}, 'PNT': {'p': 33.33333333333333, 'r': 8.333333333333332, 'f': 13.333333333333334}}, 'tags_acc': 0.0, 'token_acc': 100.0, 'textcat_score': 0.0, 'textcats_per_cat': {}}\n",
      "エポック: 17\n",
      "損失: {'ner': 68.13472753273858}\n",
      "{'uas': 0.0, 'las': 0.0, 'las_per_type': {'': {'p': 0.0, 'r': 0.0, 'f': 0.0}}, 'ents_p': 72.20779220779221, 'ents_r': 56.2753036437247, 'ents_f': 63.253697383390225, 'ents_per_type': {'ORG': {'p': 42.64705882352941, 'r': 34.11764705882353, 'f': 37.90849673202615}, 'DAT': {'p': 95.32710280373831, 'r': 95.32710280373831, 'f': 95.32710280373831}, 'LOC': {'p': 74.35897435897436, 'r': 56.86274509803921, 'f': 64.44444444444444}, 'ART': {'p': 60.0, 'r': 10.0, 'f': 17.142857142857142}, 'PSN': {'p': 11.76470588235294, 'r': 15.384615384615385, 'f': 13.333333333333334}, 'TIM': {'p': 77.77777777777779, 'r': 98.0, 'f': 86.72566371681417}, 'MNY': {'p': 0.0, 'r': 0.0, 'f': 0.0}, 'PNT': {'p': 100.0, 'r': 25.0, 'f': 40.0}}, 'tags_acc': 0.0, 'token_acc': 100.0, 'textcat_score': 0.0, 'textcats_per_cat': {}}\n",
      "エポック: 18\n",
      "損失: {'ner': 75.22423006277972}\n",
      "{'uas': 0.0, 'las': 0.0, 'las_per_type': {'': {'p': 0.0, 'r': 0.0, 'f': 0.0}}, 'ents_p': 69.77886977886978, 'ents_r': 57.48987854251012, 'ents_f': 63.04106548279689, 'ents_per_type': {'ORG': {'p': 47.05882352941176, 'r': 28.235294117647058, 'f': 35.294117647058826}, 'DAT': {'p': 92.85714285714286, 'r': 97.19626168224299, 'f': 94.9771689497717}, 'LOC': {'p': 65.98639455782312, 'r': 63.39869281045751, 'f': 64.66666666666666}, 'ART': {'p': 70.0, 'r': 11.666666666666666, 'f': 20.0}, 'PSN': {'p': 7.4074074074074066, 'r': 15.384615384615385, 'f': 10.0}, 'TIM': {'p': 85.45454545454545, 'r': 94.0, 'f': 89.52380952380952}, 'MNY': {'p': 0.0, 'r': 0.0, 'f': 0.0}, 'PNT': {'p': 100.0, 'r': 25.0, 'f': 40.0}}, 'tags_acc': 0.0, 'token_acc': 100.0, 'textcat_score': 0.0, 'textcats_per_cat': {}}\n",
      "エポック: 19\n",
      "損失: {'ner': 78.21818917186616}\n",
      "{'uas': 0.0, 'las': 0.0, 'las_per_type': {'': {'p': 0.0, 'r': 0.0, 'f': 0.0}}, 'ents_p': 72.29551451187335, 'ents_r': 55.465587044534416, 'ents_f': 62.77205040091639, 'ents_per_type': {'ORG': {'p': 50.90909090909091, 'r': 32.94117647058823, 'f': 40.0}, 'DAT': {'p': 98.05825242718447, 'r': 94.39252336448598, 'f': 96.19047619047619}, 'LOC': {'p': 74.54545454545455, 'r': 53.59477124183007, 'f': 62.3574144486692}, 'ART': {'p': 50.0, 'r': 16.666666666666664, 'f': 25.0}, 'PSN': {'p': 11.11111111111111, 'r': 30.76923076923077, 'f': 16.3265306122449}, 'MNY': {'p': 33.33333333333333, 'r': 7.142857142857142, 'f': 11.76470588235294}, 'PNT': {'p': 100.0, 'r': 8.333333333333332, 'f': 15.384615384615385}, 'TIM': {'p': 92.15686274509804, 'r': 94.0, 'f': 93.06930693069307}}, 'tags_acc': 0.0, 'token_acc': 100.0, 'textcat_score': 0.0, 'textcats_per_cat': {}}\n",
      "エポック: 20\n",
      "損失: {'ner': 55.497895212882106}\n",
      "{'uas': 0.0, 'las': 0.0, 'las_per_type': {'': {'p': 0.0, 'r': 0.0, 'f': 0.0}}, 'ents_p': 74.49856733524355, 'ents_r': 52.63157894736842, 'ents_f': 61.68446026097272, 'ents_per_type': {'ORG': {'p': 51.85185185185185, 'r': 32.94117647058823, 'f': 40.28776978417265}, 'DAT': {'p': 92.92929292929293, 'r': 85.98130841121495, 'f': 89.32038834951457}, 'ART': {'p': 88.88888888888889, 'r': 13.333333333333334, 'f': 23.18840579710145}, 'LOC': {'p': 77.06422018348624, 'r': 54.90196078431373, 'f': 64.12213740458016}, 'TIM': {'p': 90.0, 'r': 90.0, 'f': 90.0}, 'MNY': {'p': 0.0, 'r': 0.0, 'f': 0.0}, 'PNT': {'p': 0.0, 'r': 0.0, 'f': 0.0}, 'PSN': {'p': 11.11111111111111, 'r': 23.076923076923077, 'f': 15.0}}, 'tags_acc': 0.0, 'token_acc': 100.0, 'textcat_score': 0.0, 'textcats_per_cat': {}}\n"
     ]
    }
   ],
   "source": [
    "固有表現学習(エポック数=20, 学習データ=学習データ, 評価データ=評価データ, 最大バッチ数=128)"
   ]
  },
  {
   "cell_type": "code",
   "execution_count": null,
   "metadata": {},
   "outputs": [],
   "source": [
    "!mkdir -p model"
   ]
  },
  {
   "cell_type": "code",
   "execution_count": 67,
   "metadata": {},
   "outputs": [],
   "source": [
    "# モデルを保存する\n",
    "nlp.to_disk('model/ja_ner_v1')"
   ]
  },
  {
   "cell_type": "code",
   "execution_count": 69,
   "metadata": {},
   "outputs": [],
   "source": [
    "# 重みを平均する (https://www.aclweb.org/anthology/P04-1015/)\n",
    "with nlp.use_params(最適化法.averages):\n",
    "    nlp.to_disk('model/ja_ner_v1_wa')"
   ]
  },
  {
   "cell_type": "code",
   "execution_count": 70,
   "metadata": {},
   "outputs": [],
   "source": [
    "nlp_wa = nlp.from_disk('model/ja_ner_v1_wa')"
   ]
  },
  {
   "cell_type": "code",
   "execution_count": 75,
   "metadata": {},
   "outputs": [
    {
     "data": {
      "text/plain": [
       "{'uas': 0.0,\n",
       " 'las': 0.0,\n",
       " 'las_per_type': {'': {'p': 0.0, 'r': 0.0, 'f': 0.0}},\n",
       " 'ents_p': 71.2082262210797,\n",
       " 'ents_r': 56.07287449392713,\n",
       " 'ents_f': 62.74065685164214,\n",
       " 'ents_per_type': {'ORG': {'p': 50.98039215686274,\n",
       "   'r': 30.58823529411765,\n",
       "   'f': 38.23529411764706},\n",
       "  'DAT': {'p': 98.05825242718447,\n",
       "   'r': 94.39252336448598,\n",
       "   'f': 96.19047619047619},\n",
       "  'LOC': {'p': 71.31147540983606,\n",
       "   'r': 56.86274509803921,\n",
       "   'f': 63.272727272727266},\n",
       "  'ART': {'p': 66.66666666666666,\n",
       "   'r': 16.666666666666664,\n",
       "   'f': 26.666666666666668},\n",
       "  'PSN': {'p': 5.0, 'r': 15.384615384615385, 'f': 7.547169811320756},\n",
       "  'TIM': {'p': 90.56603773584906, 'r': 96.0, 'f': 93.20388349514563},\n",
       "  'MNY': {'p': 0.0, 'r': 0.0, 'f': 0.0},\n",
       "  'PNT': {'p': 100.0, 'r': 25.0, 'f': 40.0}},\n",
       " 'tags_acc': 0.0,\n",
       " 'token_acc': 100.0,\n",
       " 'textcat_score': 0.0,\n",
       " 'textcats_per_cat': {}}"
      ]
     },
     "execution_count": 75,
     "metadata": {},
     "output_type": "execute_result"
    }
   ],
   "source": [
    "# 評価\n",
    "固有表現評価(nlp, 評価データ)"
   ]
  },
  {
   "cell_type": "code",
   "execution_count": 76,
   "metadata": {},
   "outputs": [
    {
     "data": {
      "text/plain": [
       "{'uas': 0.0,\n",
       " 'las': 0.0,\n",
       " 'las_per_type': {'': {'p': 0.0, 'r': 0.0, 'f': 0.0}},\n",
       " 'ents_p': 71.2082262210797,\n",
       " 'ents_r': 56.07287449392713,\n",
       " 'ents_f': 62.74065685164214,\n",
       " 'ents_per_type': {'ORG': {'p': 50.98039215686274,\n",
       "   'r': 30.58823529411765,\n",
       "   'f': 38.23529411764706},\n",
       "  'DAT': {'p': 98.05825242718447,\n",
       "   'r': 94.39252336448598,\n",
       "   'f': 96.19047619047619},\n",
       "  'LOC': {'p': 71.31147540983606,\n",
       "   'r': 56.86274509803921,\n",
       "   'f': 63.272727272727266},\n",
       "  'ART': {'p': 66.66666666666666,\n",
       "   'r': 16.666666666666664,\n",
       "   'f': 26.666666666666668},\n",
       "  'PSN': {'p': 5.0, 'r': 15.384615384615385, 'f': 7.547169811320756},\n",
       "  'TIM': {'p': 90.56603773584906, 'r': 96.0, 'f': 93.20388349514563},\n",
       "  'MNY': {'p': 0.0, 'r': 0.0, 'f': 0.0},\n",
       "  'PNT': {'p': 100.0, 'r': 25.0, 'f': 40.0}},\n",
       " 'tags_acc': 0.0,\n",
       " 'token_acc': 100.0,\n",
       " 'textcat_score': 0.0,\n",
       " 'textcats_per_cat': {}}"
      ]
     },
     "execution_count": 76,
     "metadata": {},
     "output_type": "execute_result"
    }
   ],
   "source": [
    "# 評価\n",
    "固有表現評価(nlp_wa, 評価データ)"
   ]
  },
  {
   "cell_type": "markdown",
   "metadata": {},
   "source": [
    "### 抜き打ち検査"
   ]
  },
  {
   "cell_type": "code",
   "execution_count": 77,
   "metadata": {},
   "outputs": [
    {
     "data": {
      "text/html": [
       "<div class=\"entities\" style=\"line-height: 2.5; direction: ltr\">\n",
       "<mark class=\"entity\" style=\"background: #7aecec; padding: 0.45em 0.6em; margin: 0 0.25em; line-height: 1; border-radius: 0.35em;\">\n",
       "    気象庁\n",
       "    <span style=\"font-size: 0.8em; font-weight: bold; line-height: 1; border-radius: 0.35em; text-transform: uppercase; vertical-align: middle; margin-left: 0.5rem\">ORG</span>\n",
       "</mark>\n",
       " に よる と 、 \n",
       "<mark class=\"entity\" style=\"background: #ddd; padding: 0.45em 0.6em; margin: 0 0.25em; line-height: 1; border-radius: 0.35em;\">\n",
       "    23\n",
       "    <span style=\"font-size: 0.8em; font-weight: bold; line-height: 1; border-radius: 0.35em; text-transform: uppercase; vertical-align: middle; margin-left: 0.5rem\">DAT</span>\n",
       "</mark>\n",
       " \n",
       "<mark class=\"entity\" style=\"background: #ddd; padding: 0.45em 0.6em; margin: 0 0.25em; line-height: 1; border-radius: 0.35em;\">\n",
       "    日\n",
       "    <span style=\"font-size: 0.8em; font-weight: bold; line-height: 1; border-radius: 0.35em; text-transform: uppercase; vertical-align: middle; margin-left: 0.5rem\">DAT</span>\n",
       "</mark>\n",
       " \n",
       "<mark class=\"entity\" style=\"background: #ddd; padding: 0.45em 0.6em; margin: 0 0.25em; line-height: 1; border-radius: 0.35em;\">\n",
       "    午後\n",
       "    <span style=\"font-size: 0.8em; font-weight: bold; line-height: 1; border-radius: 0.35em; text-transform: uppercase; vertical-align: middle; margin-left: 0.5rem\">TIM</span>\n",
       "</mark>\n",
       " \n",
       "<mark class=\"entity\" style=\"background: #ddd; padding: 0.45em 0.6em; margin: 0 0.25em; line-height: 1; border-radius: 0.35em;\">\n",
       "    4\n",
       "    <span style=\"font-size: 0.8em; font-weight: bold; line-height: 1; border-radius: 0.35em; text-transform: uppercase; vertical-align: middle; margin-left: 0.5rem\">TIM</span>\n",
       "</mark>\n",
       " \n",
       "<mark class=\"entity\" style=\"background: #ddd; padding: 0.45em 0.6em; margin: 0 0.25em; line-height: 1; border-radius: 0.35em;\">\n",
       "    時\n",
       "    <span style=\"font-size: 0.8em; font-weight: bold; line-height: 1; border-radius: 0.35em; text-transform: uppercase; vertical-align: middle; margin-left: 0.5rem\">TIM</span>\n",
       "</mark>\n",
       " \n",
       "<mark class=\"entity\" style=\"background: #ddd; padding: 0.45em 0.6em; margin: 0 0.25em; line-height: 1; border-radius: 0.35em;\">\n",
       "    35\n",
       "    <span style=\"font-size: 0.8em; font-weight: bold; line-height: 1; border-radius: 0.35em; text-transform: uppercase; vertical-align: middle; margin-left: 0.5rem\">TIM</span>\n",
       "</mark>\n",
       " \n",
       "<mark class=\"entity\" style=\"background: #ddd; padding: 0.45em 0.6em; margin: 0 0.25em; line-height: 1; border-radius: 0.35em;\">\n",
       "    分\n",
       "    <span style=\"font-size: 0.8em; font-weight: bold; line-height: 1; border-radius: 0.35em; text-transform: uppercase; vertical-align: middle; margin-left: 0.5rem\">TIM</span>\n",
       "</mark>\n",
       " （ 以下 本文 は すべて \n",
       "<mark class=\"entity\" style=\"background: #ff9561; padding: 0.45em 0.6em; margin: 0 0.25em; line-height: 1; border-radius: 0.35em;\">\n",
       "    日本\n",
       "    <span style=\"font-size: 0.8em; font-weight: bold; line-height: 1; border-radius: 0.35em; text-transform: uppercase; vertical-align: middle; margin-left: 0.5rem\">LOC</span>\n",
       "</mark>\n",
       " 時間 、 UTC + 9 ) ごろ 、 \n",
       "<mark class=\"entity\" style=\"background: #ff9561; padding: 0.45em 0.6em; margin: 0 0.25em; line-height: 1; border-radius: 0.35em;\">\n",
       "    関東\n",
       "    <span style=\"font-size: 0.8em; font-weight: bold; line-height: 1; border-radius: 0.35em; text-transform: uppercase; vertical-align: middle; margin-left: 0.5rem\">LOC</span>\n",
       "</mark>\n",
       " 地方 ・ 甲信越 など 広い 地域 で 最大 震度 5 強 の 地震 が あっ た 。 </div>"
      ],
      "text/plain": [
       "<IPython.core.display.HTML object>"
      ]
     },
     "metadata": {},
     "output_type": "display_data"
    }
   ],
   "source": [
    "文章 = [nlp(テキスト) for テキスト, アノテーション in [評価データ[random.randint(0, len(評価データ))]]][0]\n",
    "spacy.displacy.render(文章, style='ent')"
   ]
  },
  {
   "cell_type": "code",
   "execution_count": 78,
   "metadata": {},
   "outputs": [
    {
     "data": {
      "text/html": [
       "<div class=\"entities\" style=\"line-height: 2.5; direction: ltr\">\n",
       "<mark class=\"entity\" style=\"background: #7aecec; padding: 0.45em 0.6em; margin: 0 0.25em; line-height: 1; border-radius: 0.35em;\">\n",
       "    マイクロソフト\n",
       "    <span style=\"font-size: 0.8em; font-weight: bold; line-height: 1; border-radius: 0.35em; text-transform: uppercase; vertical-align: middle; margin-left: 0.5rem\">ORG</span>\n",
       "</mark>\n",
       " は \n",
       "<mark class=\"entity\" style=\"background: #ddd; padding: 0.45em 0.6em; margin: 0 0.25em; line-height: 1; border-radius: 0.35em;\">\n",
       "    今年\n",
       "    <span style=\"font-size: 0.8em; font-weight: bold; line-height: 1; border-radius: 0.35em; text-transform: uppercase; vertical-align: middle; margin-left: 0.5rem\">DAT</span>\n",
       "</mark>\n",
       " の 発売 を 予定 し て いる ゲーム 機 Xbox 360 に 、 各国 の レーティング 基準 に 応じ た 年齢 制限 機能 を 搭載 する こと を 発表 し た 。 </div>"
      ],
      "text/plain": [
       "<IPython.core.display.HTML object>"
      ]
     },
     "metadata": {},
     "output_type": "display_data"
    }
   ],
   "source": [
    "文章 = [nlp(テキスト) for テキスト, アノテーション in [評価データ[random.randint(0, len(評価データ))]]][0]\n",
    "spacy.displacy.render(文章, style='ent')"
   ]
  },
  {
   "cell_type": "code",
   "execution_count": 79,
   "metadata": {},
   "outputs": [
    {
     "data": {
      "text/html": [
       "<div class=\"entities\" style=\"line-height: 2.5; direction: ltr\">\n",
       "<mark class=\"entity\" style=\"background: #ddd; padding: 0.45em 0.6em; margin: 0 0.25em; line-height: 1; border-radius: 0.35em;\">\n",
       "    2005\n",
       "    <span style=\"font-size: 0.8em; font-weight: bold; line-height: 1; border-radius: 0.35em; text-transform: uppercase; vertical-align: middle; margin-left: 0.5rem\">DAT</span>\n",
       "</mark>\n",
       " \n",
       "<mark class=\"entity\" style=\"background: #ddd; padding: 0.45em 0.6em; margin: 0 0.25em; line-height: 1; border-radius: 0.35em;\">\n",
       "    年\n",
       "    <span style=\"font-size: 0.8em; font-weight: bold; line-height: 1; border-radius: 0.35em; text-transform: uppercase; vertical-align: middle; margin-left: 0.5rem\">DAT</span>\n",
       "</mark>\n",
       " \n",
       "<mark class=\"entity\" style=\"background: #ddd; padding: 0.45em 0.6em; margin: 0 0.25em; line-height: 1; border-radius: 0.35em;\">\n",
       "    11\n",
       "    <span style=\"font-size: 0.8em; font-weight: bold; line-height: 1; border-radius: 0.35em; text-transform: uppercase; vertical-align: middle; margin-left: 0.5rem\">DAT</span>\n",
       "</mark>\n",
       " \n",
       "<mark class=\"entity\" style=\"background: #ddd; padding: 0.45em 0.6em; margin: 0 0.25em; line-height: 1; border-radius: 0.35em;\">\n",
       "    月\n",
       "    <span style=\"font-size: 0.8em; font-weight: bold; line-height: 1; border-radius: 0.35em; text-transform: uppercase; vertical-align: middle; margin-left: 0.5rem\">DAT</span>\n",
       "</mark>\n",
       " に \n",
       "<mark class=\"entity\" style=\"background: #ff9561; padding: 0.45em 0.6em; margin: 0 0.25em; line-height: 1; border-radius: 0.35em;\">\n",
       "    神奈川\n",
       "    <span style=\"font-size: 0.8em; font-weight: bold; line-height: 1; border-radius: 0.35em; text-transform: uppercase; vertical-align: middle; margin-left: 0.5rem\">LOC</span>\n",
       "</mark>\n",
       " \n",
       "<mark class=\"entity\" style=\"background: #ff9561; padding: 0.45em 0.6em; margin: 0 0.25em; line-height: 1; border-radius: 0.35em;\">\n",
       "    県\n",
       "    <span style=\"font-size: 0.8em; font-weight: bold; line-height: 1; border-radius: 0.35em; text-transform: uppercase; vertical-align: middle; margin-left: 0.5rem\">LOC</span>\n",
       "</mark>\n",
       " で 開か れる 「 全国 豊か な 海 づくり 大会 」 の 実行 委員 会 は \n",
       "<mark class=\"entity\" style=\"background: #ddd; padding: 0.45em 0.6em; margin: 0 0.25em; line-height: 1; border-radius: 0.35em;\">\n",
       "    7\n",
       "    <span style=\"font-size: 0.8em; font-weight: bold; line-height: 1; border-radius: 0.35em; text-transform: uppercase; vertical-align: middle; margin-left: 0.5rem\">DAT</span>\n",
       "</mark>\n",
       " \n",
       "<mark class=\"entity\" style=\"background: #ddd; padding: 0.45em 0.6em; margin: 0 0.25em; line-height: 1; border-radius: 0.35em;\">\n",
       "    月\n",
       "    <span style=\"font-size: 0.8em; font-weight: bold; line-height: 1; border-radius: 0.35em; text-transform: uppercase; vertical-align: middle; margin-left: 0.5rem\">DAT</span>\n",
       "</mark>\n",
       " \n",
       "<mark class=\"entity\" style=\"background: #ddd; padding: 0.45em 0.6em; margin: 0 0.25em; line-height: 1; border-radius: 0.35em;\">\n",
       "    22\n",
       "    <span style=\"font-size: 0.8em; font-weight: bold; line-height: 1; border-radius: 0.35em; text-transform: uppercase; vertical-align: middle; margin-left: 0.5rem\">DAT</span>\n",
       "</mark>\n",
       " \n",
       "<mark class=\"entity\" style=\"background: #ddd; padding: 0.45em 0.6em; margin: 0 0.25em; line-height: 1; border-radius: 0.35em;\">\n",
       "    日\n",
       "    <span style=\"font-size: 0.8em; font-weight: bold; line-height: 1; border-radius: 0.35em; text-transform: uppercase; vertical-align: middle; margin-left: 0.5rem\">DAT</span>\n",
       "</mark>\n",
       " 、 この 大会 の テーマ 曲 「 \n",
       "<mark class=\"entity\" style=\"background: #ff9561; padding: 0.45em 0.6em; margin: 0 0.25em; line-height: 1; border-radius: 0.35em;\">\n",
       "    海\n",
       "    <span style=\"font-size: 0.8em; font-weight: bold; line-height: 1; border-radius: 0.35em; text-transform: uppercase; vertical-align: middle; margin-left: 0.5rem\">LOC</span>\n",
       "</mark>\n",
       " の 唄 」 を 制作 し た 人気 \n",
       "<mark class=\"entity\" style=\"background: #ddd; padding: 0.45em 0.6em; margin: 0 0.25em; line-height: 1; border-radius: 0.35em;\">\n",
       "    バンド\n",
       "    <span style=\"font-size: 0.8em; font-weight: bold; line-height: 1; border-radius: 0.35em; text-transform: uppercase; vertical-align: middle; margin-left: 0.5rem\">PSN</span>\n",
       "</mark>\n",
       " \n",
       "<mark class=\"entity\" style=\"background: #ddd; padding: 0.45em 0.6em; margin: 0 0.25em; line-height: 1; border-radius: 0.35em;\">\n",
       "    TUBE\n",
       "    <span style=\"font-size: 0.8em; font-weight: bold; line-height: 1; border-radius: 0.35em; text-transform: uppercase; vertical-align: middle; margin-left: 0.5rem\">PSN</span>\n",
       "</mark>\n",
       " の \n",
       "<mark class=\"entity\" style=\"background: #ddd; padding: 0.45em 0.6em; margin: 0 0.25em; line-height: 1; border-radius: 0.35em;\">\n",
       "    リーダー\n",
       "    <span style=\"font-size: 0.8em; font-weight: bold; line-height: 1; border-radius: 0.35em; text-transform: uppercase; vertical-align: middle; margin-left: 0.5rem\">PSN</span>\n",
       "</mark>\n",
       " で 、 同 \n",
       "<mark class=\"entity\" style=\"background: #ff9561; padding: 0.45em 0.6em; margin: 0 0.25em; line-height: 1; border-radius: 0.35em;\">\n",
       "    県\n",
       "    <span style=\"font-size: 0.8em; font-weight: bold; line-height: 1; border-radius: 0.35em; text-transform: uppercase; vertical-align: middle; margin-left: 0.5rem\">LOC</span>\n",
       "</mark>\n",
       " 出身 の 前田 \n",
       "<mark class=\"entity\" style=\"background: #ff9561; padding: 0.45em 0.6em; margin: 0 0.25em; line-height: 1; border-radius: 0.35em;\">\n",
       "    亘\n",
       "    <span style=\"font-size: 0.8em; font-weight: bold; line-height: 1; border-radius: 0.35em; text-transform: uppercase; vertical-align: middle; margin-left: 0.5rem\">LOC</span>\n",
       "</mark>\n",
       " \n",
       "<mark class=\"entity\" style=\"background: #ddd; padding: 0.45em 0.6em; margin: 0 0.25em; line-height: 1; border-radius: 0.35em;\">\n",
       "    輝\n",
       "    <span style=\"font-size: 0.8em; font-weight: bold; line-height: 1; border-radius: 0.35em; text-transform: uppercase; vertical-align: middle; margin-left: 0.5rem\">PSN</span>\n",
       "</mark>\n",
       " 氏 が 、 暴力団 の パーティー に 出演 し た こと から 、 「 大会 関係 者 に \n",
       "<mark class=\"entity\" style=\"background: #ddd; padding: 0.45em 0.6em; margin: 0 0.25em; line-height: 1; border-radius: 0.35em;\">\n",
       "    ふさわしく\n",
       "    <span style=\"font-size: 0.8em; font-weight: bold; line-height: 1; border-radius: 0.35em; text-transform: uppercase; vertical-align: middle; margin-left: 0.5rem\">PSN</span>\n",
       "</mark>\n",
       " ない 」 として 曲 の 使用 を 中止 し た こと を 発表 し た 。 </div>"
      ],
      "text/plain": [
       "<IPython.core.display.HTML object>"
      ]
     },
     "metadata": {},
     "output_type": "display_data"
    }
   ],
   "source": [
    "文章 = [nlp(テキスト) for テキスト, アノテーション in [評価データ[random.randint(0, len(評価データ))]]][0]\n",
    "spacy.displacy.render(文章, style='ent')"
   ]
  },
  {
   "cell_type": "markdown",
   "metadata": {},
   "source": [
    "## トランスフォーマーモデルの使用  \n",
    "`spacy-transformers`パッケージはspaCyのパイプラインにHugging Faceの[transformersパッケージ](https://github.com/huggingface/transformers) に含まれる最先端のトランスフォーマーアーキテキチャに基づくモデル（[BERT](https://arxiv.org/abs/1810.04805)、[GPT-2](https://d4mucfpksywv.cloudfront.net/better-language-models/language_models_are_unsupervised_multitask_learners.pdf)、[XLNet](https://arxiv.org/abs/1906.08237)など）の便利な機能を追加します。こういった学習済みモデルは大量の文章を言語モデルで学習させています。  \n",
    "\n",
    "このチュートリアルでは日本語BERTを使っていきます。"
   ]
  },
  {
   "cell_type": "code",
   "execution_count": 2,
   "metadata": {},
   "outputs": [],
   "source": [
    "# !pip install spacy-transformers"
   ]
  },
  {
   "cell_type": "code",
   "execution_count": 2,
   "metadata": {},
   "outputs": [],
   "source": [
    "# # 日本語BERTモデルをダウンロード、解凍、ファイル名を変更（ファイル名がbertで始まらないとspaCyでエラーが発生する）\n",
    "# !wget https://www.nlp.ecei.tohoku.ac.jp/~m-suzuki/bert-japanese/BERT-base_mecab-ipadic-bpe-32k_whole-word-mask.tar.xz -P model\n",
    "# !tar xf data/BERT-base_mecab-ipadic-bpe-32k_whole-word-mask.tar.xz -C model\n",
    "# !mv model/BERT-base_mecab-ipadic-bpe-32k_whole-word-mask model/bert_ja"
   ]
  },
  {
   "cell_type": "code",
   "execution_count": null,
   "metadata": {},
   "outputs": [],
   "source": [
    "# # MeCabをインストールする（トークン化に必要）\n",
    "# !apt-get install -y mecab mecab-ipadic-utf8 libmecab-dev\n",
    "# !pip install mecab-python3"
   ]
  },
  {
   "cell_type": "code",
   "execution_count": 2,
   "metadata": {},
   "outputs": [],
   "source": [
    "import torch\n",
    "from spacy_transformers import TransformersLanguage, TransformersWordPiecer, TransformersTok2Vec\n",
    "\n",
    "# モデルを読み込む\n",
    "name = \"bert_ja\"\n",
    "path = \"model/bert_ja\"\n",
    "\n",
    "nlp = TransformersLanguage(trf_name=name, meta={\"lang\": \"ja\"})\n",
    "nlp.add_pipe(nlp.create_pipe(\"sentencizer\"))\n",
    "nlp.add_pipe(TransformersWordPiecer.from_pretrained(nlp.vocab, path))\n",
    "nlp.add_pipe(TransformersTok2Vec.from_pretrained(nlp.vocab, path))"
   ]
  },
  {
   "cell_type": "code",
   "execution_count": 3,
   "metadata": {},
   "outputs": [],
   "source": [
    "# CUDAテンソルを使用する\n",
    "if spacy.prefer_gpu():\n",
    "    torch.set_default_tensor_type(\"torch.cuda.FloatTensor\")"
   ]
  },
  {
   "cell_type": "code",
   "execution_count": 4,
   "metadata": {},
   "outputs": [
    {
     "name": "stdout",
     "output_type": "stream",
     "text": [
      "['sentencizer', 'trf_wordpiecer', 'trf_tok2vec']\n"
     ]
    }
   ],
   "source": [
    "# パイプラインが通常のspaCyと違う\n",
    "print(nlp.pipe_names)"
   ]
  },
  {
   "cell_type": "markdown",
   "metadata": {},
   "source": [
    "### 類似度の確認  \n",
    "通常の単語ベクトルと違いBERTのような言語モデルベースの単語ベクトルは文脈を考慮したものを出力します。この機能はspaCyの既存のsimilarityメソッドに追加されます。  \n",
    "\n",
    "同じ様に自分でTensorFlow等の他の機械学習フレームワークで学習したモデル(例えば自然言語推論(NLI))をsimilarityメソッドに追加する事も可能です。"
   ]
  },
  {
   "cell_type": "code",
   "execution_count": 5,
   "metadata": {},
   "outputs": [
    {
     "name": "stdout",
     "output_type": "stream",
     "text": [
      "0.8145274\n",
      "0.8711613\n"
     ]
    }
   ],
   "source": [
    "リンゴ1 = nlp(\"アップル株最高値、5G iPhone発売\")\n",
    "リンゴ2 = nlp(\"アップルパイとは、砂糖煮にしたリンゴを詰めてオーブンで焼いたパイのこと。\")\n",
    "リンゴ3 = nlp(\"アップルとさつまいもケーキの簡単おいしいレシピ\")\n",
    "print(リンゴ1[0].similarity(リンゴ2[0]))  # 会社名と食べ物\n",
    "print(リンゴ2[0].similarity(リンゴ3[0]))  # 両方とも食べ物"
   ]
  },
  {
   "cell_type": "code",
   "execution_count": 6,
   "metadata": {},
   "outputs": [
    {
     "data": {
      "text/plain": [
       "array(0.81524175, dtype=float32)"
      ]
     },
     "execution_count": 6,
     "metadata": {},
     "output_type": "execute_result"
    }
   ],
   "source": [
    "# 文章の類似度\n",
    "リンゴ1.similarity(リンゴ3)"
   ]
  },
  {
   "cell_type": "code",
   "execution_count": 7,
   "metadata": {},
   "outputs": [
    {
     "data": {
      "text/plain": [
       "array(0.8737486, dtype=float32)"
      ]
     },
     "execution_count": 7,
     "metadata": {},
     "output_type": "execute_result"
    }
   ],
   "source": [
    "# 文章の類似度\n",
    "リンゴ2.similarity(リンゴ3)"
   ]
  },
  {
   "cell_type": "code",
   "execution_count": 8,
   "metadata": {},
   "outputs": [
    {
     "data": {
      "text/plain": [
       "((16, 768), (28, 768), (18, 768))"
      ]
     },
     "execution_count": 8,
     "metadata": {},
     "output_type": "execute_result"
    }
   ],
   "source": [
    "# (wordpiecesトークン数、次元数)\n",
    "# [CLS]の埋め込みはtrf_last_hidden_state[0]です\n",
    "リンゴ1._.trf_last_hidden_state.shape, リンゴ2._.trf_last_hidden_state.shape, リンゴ3._.trf_last_hidden_state.shape,"
   ]
  },
  {
   "cell_type": "code",
   "execution_count": 9,
   "metadata": {},
   "outputs": [
    {
     "name": "stdout",
     "output_type": "stream",
     "text": [
      "['[CLS]', 'アッ', '##フル', '株', '最', '高', '値', '、', '5', '##g', 'i', '##ph', '##one', '発', '売', '[SEP]']\n"
     ]
    }
   ],
   "source": [
    "# wordpiecesをプリントする\n",
    "print(リンゴ1._.trf_word_pieces_)"
   ]
  },
  {
   "cell_type": "markdown",
   "metadata": {},
   "source": [
    "### 転移学習  \n",
    "学習済みトランスフォーマーモデルは転移学習にも利用できます。コンピュータービジョン系の学習済みモデル(ResNetやInception等)の転移学習と同様、自分独自のデータセットとラベルに対してモデル学習ができます。`nlp.update`で学習済みモデルの重みも更新するファインチューニングも可能です。  \n",
    "\n",
    "転移学習はspaCyの決められたパイプラインにしか対応していません。例え`spacy-transformers`, は`trf_textcat`を使います。文章読解などの全く関係のないタスクには対応していません。"
   ]
  },
  {
   "cell_type": "code",
   "execution_count": 10,
   "metadata": {},
   "outputs": [],
   "source": [
    "from spacy.util import minibatch\n",
    "import spacy_transformers\n",
    "from spacy_transformers.util import cyclic_triangular_rate\n",
    "from sklearn.model_selection import train_test_split"
   ]
  },
  {
   "cell_type": "code",
   "execution_count": 11,
   "metadata": {},
   "outputs": [
    {
     "data": {
      "text/plain": [
       "(1970, 2)"
      ]
     },
     "execution_count": 11,
     "metadata": {},
     "output_type": "execute_result"
    }
   ],
   "source": [
    "学習行列 = pd.read_csv('data/train.tsv.bz2', sep='\\t', compression='bz2', names=['テキスト', 'ラベル'])\n",
    "学習行列.shape"
   ]
  },
  {
   "cell_type": "code",
   "execution_count": 12,
   "metadata": {},
   "outputs": [
    {
     "data": {
      "text/plain": [
       "(843, 2)"
      ]
     },
     "execution_count": 12,
     "metadata": {},
     "output_type": "execute_result"
    }
   ],
   "source": [
    "評価行列 = pd.read_csv('data/test.tsv.bz2', sep='\\t', compression='bz2', names=['テキスト', 'ラベル'])\n",
    "評価行列.shape"
   ]
  },
  {
   "cell_type": "code",
   "execution_count": 13,
   "metadata": {},
   "outputs": [
    {
     "data": {
      "image/png": "[encoded data removed]",
      "text/plain": [
       "<Figure size 432x288 with 1 Axes>"
      ]
     },
     "metadata": {
      "needs_background": "light"
     },
     "output_type": "display_data"
    }
   ],
   "source": [
    "# 若干不均衡データ\n",
    "学習行列.ラベル.value_counts().plot(kind=\"bar\");"
   ]
  },
  {
   "cell_type": "code",
   "execution_count": 14,
   "metadata": {},
   "outputs": [],
   "source": [
    "# 特徴量とラベルに分ける\n",
    "学習X = 学習行列[['テキスト']]\n",
    "学習y = 学習行列.ラベル\n",
    "評価X = 評価行列[['テキスト']]\n",
    "評価y = 評価行列.ラベル"
   ]
  },
  {
   "cell_type": "code",
   "execution_count": 15,
   "metadata": {},
   "outputs": [
    {
     "data": {
      "text/plain": [
       "((1970, 1), (843, 1))"
      ]
     },
     "execution_count": 15,
     "metadata": {},
     "output_type": "execute_result"
    }
   ],
   "source": [
    "学習X.shape, 評価X.shape"
   ]
  },
  {
   "cell_type": "code",
   "execution_count": 16,
   "metadata": {},
   "outputs": [],
   "source": [
    "def データ前処理(データX:pd.DataFrame=None, データy:np.array=None, テキストコラム名:str='テキスト'):\n",
    "    ラベル = [{\"1\": bool(y), \"0\": not bool(y)} for y in データy]\n",
    "    テキスト = tuple(データX[テキストコラム名].values.tolist())\n",
    "    結合データ = list(zip(テキスト, [{\"cats\": カテゴリー} for カテゴリー in ラベル]))\n",
    "    \n",
    "    return 結合データ, テキスト, ラベル"
   ]
  },
  {
   "cell_type": "markdown",
   "metadata": {},
   "source": [
    "パッディングは最小限に抑える為、バッチごとに系列長の長さに合わせて自動的にグループ分けされます。"
   ]
  },
  {
   "cell_type": "code",
   "execution_count": 17,
   "metadata": {},
   "outputs": [],
   "source": [
    "# spaCy用にデータを前処理する\n",
    "学習データ, 学習テキスト, 学習ラベル = データ前処理(学習X, 学習y, \"テキスト\")\n",
    "評価データ, 評価テキスト, 評価ラベル = データ前処理(評価X, 評価y, \"テキスト\")"
   ]
  },
  {
   "cell_type": "code",
   "execution_count": 18,
   "metadata": {},
   "outputs": [],
   "source": [
    "# 文章分類用のパイプラインを作成する\n",
    "文書分類パイプ = nlp.create_pipe(\"trf_textcat\", config={\"exclusive_classes\": True, \"architecture\": \"softmax_class_vector\"})\n",
    "for ラベル in (\"1\", \"0\"):\n",
    "    文書分類パイプ.add_label(ラベル)\n",
    "nlp.add_pipe(文書分類パイプ, last=True)"
   ]
  },
  {
   "cell_type": "code",
   "execution_count": 19,
   "metadata": {},
   "outputs": [],
   "source": [
    "# 評価関数\n",
    "def 文章分類評価(nlp:spacy_transformers.language.TransformersLanguage=None, \n",
    "                評価テキスト:tuple=None, \n",
    "                評価ラベル:list=None, \n",
    "                バッチ数:int=32):\n",
    "    確率リスト = []\n",
    "    ラベルリスト = []\n",
    "    \n",
    "    for i, 文章 in enumerate(nlp.pipe(評価テキスト, batch_size=バッチ数)):\n",
    "        予測 = 文章.cats['1']\n",
    "        ラベル = 1.0 if 評価ラベル[i]['1'] else 0.0\n",
    "        確率リスト.append(予測)\n",
    "        ラベルリスト.append(ラベル)\n",
    "    \n",
    "    予測インデックス = np.round(確率リスト)\n",
    "    正解率 = accuracy_score(ラベルリスト, 予測インデックス)\n",
    "    roc_auc = roc_auc_score(ラベルリスト, 確率リスト)\n",
    "    f値 = f1_score(ラベルリスト, 予測インデックス)\n",
    "    適合率 = precision_score(ラベルリスト, 予測インデックス)\n",
    "    再現率 = recall_score(ラベルリスト, 予測インデックス)\n",
    "    \n",
    "    return {'正解率': 正解率, 'roc_auc': roc_auc, 'f値': f値, '適合率': 適合率, '再現率': 再現率}"
   ]
  },
  {
   "cell_type": "code",
   "execution_count": 20,
   "metadata": {},
   "outputs": [],
   "source": [
    "# Optimizer (Adam)\n",
    "最適化法 = nlp.resume_training()\n",
    "最適化法.alpha = 0.001\n",
    "最適化法.trf_weight_decay = 0.005\n",
    "最適化法.L2 = 0.0"
   ]
  },
  {
   "cell_type": "code",
   "execution_count": 23,
   "metadata": {},
   "outputs": [],
   "source": [
    "def 文章分類学習(エポック数:int=5,\n",
    "               学習データ:list=None,\n",
    "               評価テキスト:tuple=None,\n",
    "               評価ラベル:list=None, \n",
    "               バッチ数:int=32, \n",
    "               学習率:float=1e-3):\n",
    "    学習状況 = []\n",
    "    ドロップアウト = decaying(0.2, 0.1, 0.3) # ドロップアウトを0.2から0.1に徐々に減少させる\n",
    "    # Cyclic triangular rate (https://arxiv.org/abs/1506.01186)\n",
    "    上昇下降学習率 = cyclic_triangular_rate(\n",
    "        学習率 / 3, 学習率 * 3, 2 * len(学習データ) // バッチ数\n",
    "    )\n",
    "\n",
    "    for エポック in range(エポック数):\n",
    "        random.shuffle(学習データ)\n",
    "        全バッチ = minibatch(学習データ, size=バッチ数)\n",
    "        損失 = {}\n",
    "\n",
    "        for バッチ in 全バッチ:\n",
    "            最適化法.trf_lr = next(上昇下降学習率)\n",
    "            テキスト, ラベル = zip(*バッチ)\n",
    "            nlp.update(\n",
    "                テキスト, \n",
    "                ラベル, \n",
    "                drop = next(ドロップアウト),\n",
    "                sgd = 最適化法,\n",
    "                losses=損失)\n",
    "\n",
    "        print(f\"エポック: {エポック+1}\")\n",
    "        print(f\"損失: {損失}\")\n",
    "        \n",
    "        with nlp.use_params(最適化法.averages):\n",
    "            評価スコア = 文章分類評価(nlp, 評価テキスト, 評価ラベル, バッチ数)\n",
    "\n",
    "        print(評価スコア)\n",
    "\n",
    "        学習状況.append(損失)\n",
    "        学習状況.append(評価スコア)"
   ]
  },
  {
   "cell_type": "code",
   "execution_count": 21,
   "metadata": {},
   "outputs": [
    {
     "name": "stdout",
     "output_type": "stream",
     "text": [
      "エポック: 1\n",
      "損失: {'trf_textcat': 0.028460620407713577}\n",
      "{'正解率': 0.6725978647686833, 'roc_auc': 0.7293191394987801, 'f値': 0.757469244288225, '適合率': 0.6766091051805337, '再現率': 0.8602794411177644}\n",
      "エポック: 2\n",
      "損失: {'trf_textcat': 0.025759468393516727}\n",
      "{'正解率': 0.66429418742586, 'roc_auc': 0.7694085513184158, 'f値': 0.7704785077047851, '適合率': 0.6489071038251366, '再現率': 0.9481037924151696}\n",
      "エポック: 3\n",
      "損失: {'trf_textcat': 0.024284954386530444}\n",
      "{'正解率': 0.7093712930011863, 'roc_auc': 0.7808359888410314, 'f値': 0.7886108714408975, '適合率': 0.6945288753799392, '再現率': 0.9121756487025948}\n",
      "エポック: 4\n",
      "損失: {'trf_textcat': 0.022368382633430883}\n",
      "{'正解率': 0.741399762752076, 'roc_auc': 0.7884231536926147, 'f値': 0.8114186851211073, '適合率': 0.716030534351145, '再現率': 0.936127744510978}\n",
      "エポック: 5\n",
      "損失: {'trf_textcat': 0.021247176511678845}\n",
      "{'正解率': 0.7568208778173191, 'roc_auc': 0.8059436682191172, 'f値': 0.8184233835252435, '適合率': 0.7356687898089171, '再現率': 0.9221556886227545}\n",
      "エポック: 6\n",
      "損失: {'trf_textcat': 0.019620090431999415}\n",
      "{'正解率': 0.763938315539739, 'roc_auc': 0.8003933653161514, 'f値': 0.8208820882088208, '適合率': 0.7475409836065574, '再現率': 0.9101796407185628}\n",
      "エポック: 7\n",
      "損失: {'trf_textcat': 0.019623343949206173}\n",
      "{'正解率': 0.7615658362989324, 'roc_auc': 0.8018290903572971, 'f値': 0.8213333333333335, '適合率': 0.7403846153846154, '再現率': 0.9221556886227545}\n",
      "エポック: 8\n",
      "損失: {'trf_textcat': 0.01802219109958969}\n",
      "{'正解率': 0.7686832740213523, 'roc_auc': 0.8214448296389677, 'f値': 0.8251121076233183, '適合率': 0.749185667752443, '再現率': 0.9181636726546906}\n",
      "エポック: 9\n",
      "損失: {'trf_textcat': 0.017261488785152324}\n",
      "{'正解率': 0.7758007117437722, 'roc_auc': 0.8279639551306743, 'f値': 0.8286491387126019, '適合率': 0.7591362126245847, '再現率': 0.9121756487025948}\n",
      "エポック: 10\n",
      "損失: {'trf_textcat': 0.018943645598483272}\n",
      "{'正解率': 0.7722419928825622, 'roc_auc': 0.8315824491368141, 'f値': 0.826086956521739, '適合率': 0.7562189054726368, '再現率': 0.9101796407185628}\n",
      "エポック: 11\n",
      "損失: {'trf_textcat': 0.019012881952221505}\n",
      "{'正解率': 0.7781731909845789, 'roc_auc': 0.8430215592207397, 'f値': 0.8310749774164409, '適合率': 0.759075907590759, '再現率': 0.9181636726546906}\n",
      "エポック: 12\n",
      "損失: {'trf_textcat': 0.017682607620372437}\n",
      "{'正解率': 0.7781731909845789, 'roc_auc': 0.8450467486080471, 'f値': 0.831379621280433, '適合率': 0.7582236842105263, '再現率': 0.9201596806387226}\n",
      "エポック: 13\n",
      "損失: {'trf_textcat': 0.016478488425491378}\n",
      "{'正解率': 0.7841043890865955, 'roc_auc': 0.8502935649169499, 'f値': 0.8348457350272231, '適合率': 0.7653910149750416, '再現率': 0.9181636726546906}\n",
      "エポック: 14\n",
      "損失: {'trf_textcat': 0.015318336823838763}\n",
      "{'正解率': 0.7935943060498221, 'roc_auc': 0.8555462175065074, 'f値': 0.8397790055248618, '適合率': 0.7794871794871795, '再現率': 0.9101796407185628}\n",
      "エポック: 15\n",
      "損失: {'trf_textcat': 0.016067369884694926}\n",
      "{'正解率': 0.7852906287069988, 'roc_auc': 0.8590071319349605, 'f値': 0.8356039963669393, '適合率': 0.7666666666666667, '再現率': 0.9181636726546906}\n",
      "エポック: 16\n",
      "損失: {'trf_textcat': 0.014346320436743554}\n",
      "{'正解率': 0.7947805456702254, 'roc_auc': 0.8684210526315789, 'f値': 0.840846366145354, '適合率': 0.7798634812286689, '再現率': 0.9121756487025948}\n",
      "エポック: 17\n",
      "損失: {'trf_textcat': 0.013821623637340963}\n",
      "{'正解率': 0.8066429418742586, 'roc_auc': 0.8733585460657632, 'f値': 0.8486536675951718, '適合率': 0.7934027777777778, '再現率': 0.9121756487025948}\n",
      "エポック: 18\n",
      "損失: {'trf_textcat': 0.015274372417479753}\n",
      "{'正解率': 0.7995255041518387, 'roc_auc': 0.8748409613521495, 'f値': 0.8427906976744186, '適合率': 0.789198606271777, '再現率': 0.9041916167664671}\n",
      "エポック: 19\n",
      "損失: {'trf_textcat': 0.015746990393381566}\n",
      "{'正解率': 0.8030842230130486, 'roc_auc': 0.8753545540497951, 'f値': 0.8445692883895132, '適合率': 0.7954144620811288, '再現率': 0.9001996007984032}\n",
      "エポック: 20\n",
      "損失: {'trf_textcat': 0.014503161204629578}\n",
      "{'正解率': 0.8030842230130486, 'roc_auc': 0.8768836595814219, 'f値': 0.8442776735459662, '適合率': 0.7964601769911505, '再現率': 0.8982035928143712}\n"
     ]
    }
   ],
   "source": [
    "文章分類学習(エポック数=20, 学習データ=学習データ, 評価テキスト=評価テキスト, 評価ラベル=評価ラベル, バッチ数=32, 学習率=1e-6)"
   ]
  },
  {
   "cell_type": "code",
   "execution_count": 22,
   "metadata": {},
   "outputs": [
    {
     "data": {
      "text/plain": [
       "{'正解率': 0.8078291814946619,\n",
       " 'roc_auc': 0.8823230731519418,\n",
       " 'f値': 0.8451242829827916,\n",
       " '適合率': 0.8110091743119267,\n",
       " '再現率': 0.8822355289421158}"
      ]
     },
     "execution_count": 22,
     "metadata": {},
     "output_type": "execute_result"
    }
   ],
   "source": [
    "# 評価\n",
    "文章分類評価(nlp, 評価テキスト, 評価ラベル, 32)"
   ]
  },
  {
   "cell_type": "code",
   "execution_count": 23,
   "metadata": {},
   "outputs": [],
   "source": [
    "# 重みを平均する (https://www.aclweb.org/anthology/P04-1015/)\n",
    "with nlp.use_params(最適化法.averages):\n",
    "    nlp.to_disk('model/ja_bert_textcat_wa')\n",
    "    \n",
    "nlp_wa = nlp.from_disk('model/ja_bert_textcat_wa')"
   ]
  },
  {
   "cell_type": "code",
   "execution_count": 25,
   "metadata": {},
   "outputs": [
    {
     "data": {
      "text/plain": [
       "{'正解率': 0.8030842230130486,\n",
       " 'roc_auc': 0.8768836595814219,\n",
       " 'f値': 0.8442776735459662,\n",
       " '適合率': 0.7964601769911505,\n",
       " '再現率': 0.8982035928143712}"
      ]
     },
     "execution_count": 25,
     "metadata": {},
     "output_type": "execute_result"
    }
   ],
   "source": [
    "# 評価\n",
    "文章分類評価(nlp_wa, 評価テキスト, 評価ラベル, 32)"
   ]
  },
  {
   "cell_type": "code",
   "execution_count": 26,
   "metadata": {},
   "outputs": [],
   "source": [
    "# 予測関数\n",
    "def 予測(nlp:spacy_transformers.language.TransformersLanguage=None, \n",
    "       評価テキスト:tuple=None, \n",
    "       バッチ数:int=32):\n",
    "    \n",
    "    確率リスト = []\n",
    "    \n",
    "    for i, 文章 in enumerate(nlp.pipe(評価テキスト, batch_size=バッチ数)):\n",
    "        予測 = 文章.cats['1']\n",
    "        確率リスト.append(予測)\n",
    "    \n",
    "    return 確率リスト"
   ]
  },
  {
   "cell_type": "code",
   "execution_count": 29,
   "metadata": {},
   "outputs": [],
   "source": [
    "確率 = 予測(nlp, 評価テキスト)\n",
    "予測インデックス = np.round(確率)"
   ]
  },
  {
   "cell_type": "code",
   "execution_count": 30,
   "metadata": {},
   "outputs": [
    {
     "data": {
      "image/png": "[encoded data removed]",
      "text/plain": [
       "<Figure size 360x360 with 2 Axes>"
      ]
     },
     "metadata": {
      "needs_background": "light"
     },
     "output_type": "display_data"
    }
   ],
   "source": [
    "skplt.plot_confusion_matrix(評価y, 予測インデックス, figsize=(5,5), normalize=True);"
   ]
  },
  {
   "cell_type": "code",
   "execution_count": 31,
   "metadata": {},
   "outputs": [
    {
     "data": {
      "image/png": "[encoded data removed]",
      "text/plain": [
       "<Figure size 360x360 with 2 Axes>"
      ]
     },
     "metadata": {
      "needs_background": "light"
     },
     "output_type": "display_data"
    }
   ],
   "source": [
    "skplt.plot_confusion_matrix(評価y, 予測インデックス, figsize=(5,5), normalize=False);"
   ]
  },
  {
   "cell_type": "code",
   "execution_count": 32,
   "metadata": {},
   "outputs": [],
   "source": [
    "# 最適な適合率、再現率、f値を計算する\n",
    "def 適合再現f1計算(評価y:np.ndarray=None, 確率:list=None):\n",
    "    閾値リスト = []\n",
    "    閾値 = []\n",
    "    for 閾 in np.arange(0.01, 1.0, 0.01):\n",
    "        閾 = np.round(閾, 2)\n",
    "        再現率 = recall_score(評価y, (確率 > 閾).astype(int))\n",
    "        適合率 = precision_score(評価y, (確率 > 閾).astype(int))\n",
    "        f値 = f1_score(評価y, (確率 > 閾).astype(int))\n",
    "        閾値リスト.append([閾, 再現率, 適合率, f値])\n",
    "        閾値.append([閾, 再現率, 適合率, f値])\n",
    "\n",
    "    # f値で並び替え（降順）\n",
    "    閾値.sort(key=lambda x: x[3], reverse=True)\n",
    "    最高閾値 = 閾値[0][0]\n",
    "    最高再現率 = 閾値[0][1]\n",
    "    最高適合率 = 閾値[0][2]\n",
    "    最高f値 = 閾値[0][3]\n",
    "    return  閾値リスト, 最高再現率, 最高適合率, 最高f値, 最高閾値"
   ]
  },
  {
   "cell_type": "code",
   "execution_count": 33,
   "metadata": {},
   "outputs": [
    {
     "name": "stdout",
     "output_type": "stream",
     "text": [
      "最適再現率: 0.8642714570858283 最適適合率: 0.8359073359073359 最適f値: 0.8498527968596663 閾値: 0.61\n"
     ]
    }
   ],
   "source": [
    "閾値リスト, 最高再現率, 最高適合率, 最高f値, 最高閾値 = 適合再現f1計算(評価y, 確率)\n",
    "print(f'最適再現率: {最高再現率} 最適適合率: {最高適合率} 最適f値: {最高f値} 閾値: {最高閾値}')"
   ]
  },
  {
   "cell_type": "code",
   "execution_count": 35,
   "metadata": {},
   "outputs": [
    {
     "data": {
      "image/png": "[encoded data removed]",
      "text/plain": [
       "<Figure size 864x576 with 1 Axes>"
      ]
     },
     "metadata": {
      "needs_background": "light"
     },
     "output_type": "display_data"
    }
   ],
   "source": [
    "閾値リスト = np.array(閾値リスト)\n",
    "閾値 = 閾値リスト[:,0]\n",
    "再現率リスト = 閾値リスト[:,1]\n",
    "適合率リスト = 閾値リスト[:,2]\n",
    "f値リスト = 閾値リスト[:,3]\n",
    "\n",
    "plt.figure(figsize = (12, 8))\n",
    "plt.plot(閾値, 再現率リスト, label='recall')\n",
    "plt.plot(閾値, 適合率リスト, label='precision')\n",
    "plt.plot(閾値, f値リスト, label='f1')\n",
    "plt.title('Recall, Precision, F1')\n",
    "plt.xlabel('閾値')\n",
    "plt.legend()\n",
    "plt.show();"
   ]
  },
  {
   "cell_type": "code",
   "execution_count": 36,
   "metadata": {},
   "outputs": [
    {
     "data": {
      "image/png": "[encoded data removed]",
      "text/plain": [
       "<Figure size 576x432 with 1 Axes>"
      ]
     },
     "metadata": {
      "needs_background": "light"
     },
     "output_type": "display_data"
    }
   ],
   "source": [
    "# ROC曲線\n",
    "fp, tp, thresholds = roc_curve(評価y, 確率)\n",
    "\n",
    "plt.figure(figsize = (8, 6))\n",
    "plt.plot(fp, tp)\n",
    "plt.title(\"ROC curve\")\n",
    "plt.xlabel( \"False Positive Rate\")\n",
    "plt.ylabel(\"True Positive Rate\")\n",
    "plt.show();"
   ]
  },
  {
   "cell_type": "code",
   "execution_count": 37,
   "metadata": {},
   "outputs": [],
   "source": [
    "# 予測と正解ラベルの分布比較\n",
    "評価行列 = pd.DataFrame(予測インデックス, columns=['予測'])\n",
    "評価行列['確率'] = 確率\n",
    "\n",
    "ラベルリスト = []\n",
    "\n",
    "for i in 評価ラベル:\n",
    "    ラベル = 1.0 if i['1'] else 0.0\n",
    "    ラベルリスト.append(ラベル)\n",
    "    \n",
    "評価行列['ラベル'] = ラベルリスト"
   ]
  },
  {
   "cell_type": "code",
   "execution_count": 38,
   "metadata": {},
   "outputs": [
    {
     "data": {
      "image/png": "[encoded data removed]",
      "text/plain": [
       "<Figure size 432x288 with 1 Axes>"
      ]
     },
     "metadata": {
      "needs_background": "light"
     },
     "output_type": "display_data"
    }
   ],
   "source": [
    "sns.distplot(評価行列[評価行列.ラベル == 1].確率, kde=False, bins=100, color='blue', label='Positive', norm_hist=True)\n",
    "sns.distplot(評価行列[評価行列.ラベル == 0].確率, kde=False, bins=100, color='orange', label='Negative', norm_hist=True)\n",
    "\n",
    "plt.rcParams[\"figure.figsize\"] = (20, 10)\n",
    "plt.rcParams[\"font.size\"] = 20\n",
    "plt.rcParams[\"axes.labelsize\"] = 10\n",
    "plt.legend();"
   ]
  },
  {
   "cell_type": "markdown",
   "metadata": {},
   "source": [
    "## Prodigyでのアノテーション　　\n",
    "[Prodigy](https://prodi.gy/)はウェブ上で動くアノテーションツールでユーザー自身がタグ付けします。アクティブラーニングによりモデルが自信のないデータをユーザーにタグ付けさせます。アノテーションの方法やインターフェースはレシピと呼ばれるもので定義され、標準で文章分類、固有表現抽出、 画像認識、そして物体検出のレシピを搭載しています。自作レシピも可能です。　　\n",
    "\n",
    "***このツールはオープンソースではありませんのでライセンスが必要になります。オープンソースのツールでは [doccano](https://github.com/doccano/doccano)がおすすめです。"
   ]
  },
  {
   "cell_type": "code",
   "execution_count": 33,
   "metadata": {},
   "outputs": [
    {
     "data": {
      "text/plain": [
       "(1970, 2)"
      ]
     },
     "execution_count": 33,
     "metadata": {},
     "output_type": "execute_result"
    }
   ],
   "source": [
    "行列 = pd.read_csv('data/train.tsv.bz2', sep='\\t', compression='bz2', names=['テキスト', 'ラベル'])\n",
    "行列.shape"
   ]
  },
  {
   "cell_type": "code",
   "execution_count": 16,
   "metadata": {},
   "outputs": [],
   "source": [
    "# アノテーション用にテキストだけcsvで保存する\n",
    "行列.テキスト.to_csv(\"data/test_prodigy.csv\", header=False, index=False)"
   ]
  },
  {
   "cell_type": "markdown",
   "metadata": {},
   "source": [
    "### Prodigyの起動　　\n",
    "1. ウェブアプリを起動します。\n",
    "2. ブラウザで`localhost:8888`に接続します。　　\n",
    "\n",
    "### Prodigyでのアノテーション　　\n",
    "1. 学習済みモデルを選び、手動でアノテーションします(1000個ほど):  \n",
    "`prodigy my_set ner.teach en_core_web_lg data/test_prodigy.csv`  \n",
    "2. モデルを学習します:  \n",
    "`prodigy train ner my_set en_core_web_lg --output model/ner_v1 --n-iter 5 --eval-split 0.2 --dropout 0.2`  \n",
    "3.  `ner.correct`と`train`を精度が上がるまで交互に実行します:  \n",
    "`prodigy ner.correct my_set model/ner_v1 data/test_prodigy.csv`  \n",
    "`prodigy train ner my_set en_core_web_lg --output model/ner_v2 --n-iter 5 --eval-split 0.2 --dropout 0.2`  \n",
    "`prodigy ner.correct my_set model/ner_v2 data/test_prodigy.csv`  \n",
    "...\n",
    "4. 完了です。学習されたモデルはspaCy使用できます。\n",
    "5. 更にラベル付けされたデータをJSONLファイルに出力する事も可能です:\n",
    "`prodigy ner.gold-to-spacy my_set data/ner_gold.jsonl --biluo --spacy-model model/ner_v8`\n",
    "6. 出力されたデータを他のフレームワークと使って学習する事もできます。例えば、AllenNLP用に変換するには下記を参照してください。"
   ]
  },
  {
   "cell_type": "code",
   "execution_count": null,
   "metadata": {},
   "outputs": [],
   "source": [
    "import json\n",
    "\n",
    "with open('data/ner_gold.jsonl') as jsonファイル:\n",
    "    prodigyゴールド = [json.loads(ライン) for ライン in jsonファイル]\n",
    "    \n",
    "nerリスト = []\n",
    "for 行 in prodigyゴールド:\n",
    "    テキスト = 行[0]\n",
    "    ラベル = 行[1]\n",
    "    \n",
    "    連結テキスト = \"\"\n",
    "    カウンタ = 0\n",
    "    \n",
    "    for テキスト in テキスト.split(\" \"):\n",
    "        ラベル付きテキスト = テキスト + \"#\" + ラベル[カウンタ]\n",
    "        連結テキスト = 連結テキスト + ラベル付きテキスト + \" \"\n",
    "        カウンタ += 1\n",
    "\n",
    "    nerリスト.append(連結テキスト.strip())\n",
    "\n",
    "ner行列 = pd.DataFrame(nerリスト, columns=['テキスト'])"
   ]
  },
  {
   "cell_type": "code",
   "execution_count": null,
   "metadata": {},
   "outputs": [],
   "source": [
    "# 学習データと評価データに分ける\n",
    "学習X, 評価X = train_test_split(ner行列, test_size=0.2, random_state=1)"
   ]
  },
  {
   "cell_type": "code",
   "execution_count": null,
   "metadata": {},
   "outputs": [],
   "source": [
    "# データを保存する\n",
    "学習X.to_csv(\"data/ner_train_allennlp.csv.bz2\", compression='bz2', header=False, index=False)\n",
    "評価X.to_csv(\"data/ner_val_allennlp.csv.bz2\", compression='bz2', header=False, index=False)"
   ]
  }
 ],
 "metadata": {
  "kernelspec": {
   "display_name": "Python 3",
   "language": "python",
   "name": "python3"
  },
  "language_info": {
   "codemirror_mode": {
    "name": "ipython",
    "version": 3
   },
   "file_extension": ".py",
   "mimetype": "text/x-python",
   "name": "python",
   "nbconvert_exporter": "python",
   "pygments_lexer": "ipython3",
   "version": "3.6.7"
  }
 },
 "nbformat": 4,
 "nbformat_minor": 4
}
