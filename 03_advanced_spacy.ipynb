{
 "cells": [
  {
   "cell_type": "markdown",
   "metadata": {},
   "source": [
    "# SpaCy Tutorial\n",
    "#### 03 Advanced spaCy"
   ]
  },
  {
   "cell_type": "code",
   "execution_count": 1,
   "metadata": {},
   "outputs": [],
   "source": [
    "%matplotlib inline\n",
    "import spacy\n",
    "from spacy.gold import GoldParse\n",
    "from spacy.scorer import Scorer\n",
    "from spacy.util import decaying, minibatch, compounding\n",
    "import pandas as pd\n",
    "import numpy as np\n",
    "import random\n",
    "from sklearn.metrics import precision_score, recall_score, confusion_matrix, accuracy_score, f1_score, roc_auc_score, roc_curve\n",
    "import matplotlib.pyplot as plt\n",
    "import seaborn as sns\n",
    "import scikitplot.plotters as skplt"
   ]
  },
  {
   "cell_type": "markdown",
   "metadata": {},
   "source": [
    "## Using GPU  \n",
    "To use GPU, install spaCy for the right CUDA version. The GPU version of spaCy utilizes [CuPy](http://learningsys.org/nips17/assets/papers/paper_16.pdf), a GPU-accelerated NumPy-like library."
   ]
  },
  {
   "cell_type": "code",
   "execution_count": 2,
   "metadata": {},
   "outputs": [],
   "source": [
    "# !pip install -U spacy[cuda100]"
   ]
  },
  {
   "cell_type": "code",
   "execution_count": 3,
   "metadata": {},
   "outputs": [
    {
     "data": {
      "text/plain": [
       "True"
      ]
     },
     "execution_count": 3,
     "metadata": {},
     "output_type": "execute_result"
    }
   ],
   "source": [
    "# Make sure GPU is enabled\n",
    "spacy.prefer_gpu()"
   ]
  },
  {
   "cell_type": "code",
   "execution_count": 4,
   "metadata": {},
   "outputs": [
    {
     "data": {
      "text/plain": [
       "<CUDA Device 0>"
      ]
     },
     "execution_count": 4,
     "metadata": {},
     "output_type": "execute_result"
    }
   ],
   "source": [
    "# Use the first GPU card\n",
    "spacy.util.use_gpu(0)"
   ]
  },
  {
   "cell_type": "markdown",
   "metadata": {},
   "source": [
    "## Model Training"
   ]
  },
  {
   "cell_type": "markdown",
   "metadata": {},
   "source": [
    "SpaCy allows training new models or retraining existing models. This is especially useful for text classifier and named entity recognizer. \n",
    "\n",
    "1. Initialize the model weights randomly with `nlp.begin_training`\n",
    "2. Predict a few examples with the current weights by calling `nlp.update`\n",
    "3. Compare prediction with true labels\n",
    "4. Calculate how to change weights to improve predictions\n",
    "5. Update weights slightly\n",
    "6. Repeat 2-5\n",
    "\n",
    "Here, we'll train an NER model.\n",
    "\n",
    "![model_training](img/model_training.png)  \n",
    "\n",
    "Here, we'll train NER using [conll2003 data](https://github.com/Hironsan/anago/raw/master/data/conll2003/en/ner/)."
   ]
  },
  {
   "cell_type": "code",
   "execution_count": 5,
   "metadata": {},
   "outputs": [],
   "source": [
    "# !wget https://github.com/Hironsan/anago/raw/master/data/conll2003/en/ner/train.txt -P data\n",
    "# !wget https://github.com/Hironsan/anago/raw/master/data/conll2003/en/ner/valid.txt -P data\n",
    "# !wget https://github.com/Hironsan/anago/raw/master/data/conll2003/en/ner/test.txt -P data"
   ]
  },
  {
   "cell_type": "markdown",
   "metadata": {},
   "source": [
    "### Convert conll2003 annotation to spaCy format"
   ]
  },
  {
   "cell_type": "code",
   "execution_count": 6,
   "metadata": {},
   "outputs": [],
   "source": [
    "def convert_conll_to_spacy(filename:str=None):\n",
    "    try:\n",
    "        f=open(filename, 'r')\n",
    "        \n",
    "        all_data_list = []\n",
    "        document = ''\n",
    "        start = 0\n",
    "        data_tuple = ()\n",
    "        label_dict = {}\n",
    "        entity_list = []\n",
    "\n",
    "        for line_num, line in enumerate(f, 1):\n",
    "            if line == '\\n':\n",
    "                all_data_list.append((document, {\"entities\": entity_list}))\n",
    "                document = ''\n",
    "                start = 0\n",
    "                data_tuple = ()\n",
    "                label_dict = {}\n",
    "                entity_list = []\n",
    "\n",
    "            if line != '\\n':\n",
    "                word, entity = line.split('\\t')\n",
    "                document += word.strip() + \" \"\n",
    "                entity = entity.strip()\n",
    "\n",
    "                if entity != 'O':\n",
    "                    entity = entity.split(\"-\")[1]\n",
    "                    start_position = start\n",
    "                    end_position = start + len(word)\n",
    "                    entity_list.append((start_position, end_position, entity))\n",
    "\n",
    "                start+=len(word)+1\n",
    "    except:\n",
    "        print(\"Something went wrong\")\n",
    "        return None\n",
    "    return all_data_list"
   ]
  },
  {
   "cell_type": "code",
   "execution_count": 7,
   "metadata": {},
   "outputs": [],
   "source": [
    "train_data = convert_conll_to_spacy('data/train.txt')\n",
    "val_data = convert_conll_to_spacy('data/valid.txt')\n",
    "test_data = convert_conll_to_spacy('data/test.txt')"
   ]
  },
  {
   "cell_type": "code",
   "execution_count": 8,
   "metadata": {},
   "outputs": [
    {
     "data": {
      "text/plain": [
       "(14041, 3250, 3453)"
      ]
     },
     "execution_count": 8,
     "metadata": {},
     "output_type": "execute_result"
    }
   ],
   "source": [
    "len(train_data), len(val_data), len(test_data)"
   ]
  },
  {
   "cell_type": "markdown",
   "metadata": {},
   "source": [
    "### Train NER"
   ]
  },
  {
   "cell_type": "code",
   "execution_count": 9,
   "metadata": {},
   "outputs": [],
   "source": [
    "random.seed(0)\n",
    "\n",
    "nlp = spacy.blank(\"en\")\n",
    "ner = nlp.create_pipe(\"ner\")\n",
    "nlp.add_pipe(ner)\n",
    "\n",
    "# Converts to BILUO scheme\n",
    "for _, annotations in train_data:\n",
    "    for ent in annotations.get(\"entities\"):\n",
    "        ner.add_label(ent[2])\n",
    "\n",
    "# Adam (1e-3, beta1=0.9, beta2-0.999, L2=1e-6)\n",
    "optimizer = nlp.begin_training(device=0)\n",
    "    \n",
    "distinct_entities = list(ner.move_names)\n",
    "\n",
    "# get names of other pipes to disable them during training\n",
    "other_pipes = [pipe for pipe in nlp.pipe_names if pipe != \"ner\"]"
   ]
  },
  {
   "cell_type": "code",
   "execution_count": 10,
   "metadata": {},
   "outputs": [
    {
     "data": {
      "text/plain": [
       "['O',\n",
       " 'B-ORG',\n",
       " 'I-ORG',\n",
       " 'L-ORG',\n",
       " 'U-ORG',\n",
       " 'B-MISC',\n",
       " 'I-MISC',\n",
       " 'L-MISC',\n",
       " 'U-MISC',\n",
       " 'B-PER',\n",
       " 'I-PER',\n",
       " 'L-PER',\n",
       " 'U-PER',\n",
       " 'B-LOC',\n",
       " 'I-LOC',\n",
       " 'L-LOC',\n",
       " 'U-LOC']"
      ]
     },
     "execution_count": 10,
     "metadata": {},
     "output_type": "execute_result"
    }
   ],
   "source": [
    "distinct_entities"
   ]
  },
  {
   "cell_type": "code",
   "execution_count": 11,
   "metadata": {},
   "outputs": [],
   "source": [
    "# Evaluation function\n",
    "def evaluate_ner(nlp:spacy.lang.en.English=None, val_data:list=None):\n",
    "    scorer = Scorer()\n",
    "    \n",
    "    for text, annotation in val_data:\n",
    "        doc = nlp(text)\n",
    "        gold = GoldParse(doc, entities=annotation['entities'])\n",
    "        scorer.score(doc, gold)\n",
    "        \n",
    "    return scorer.scores"
   ]
  },
  {
   "cell_type": "code",
   "execution_count": 12,
   "metadata": {},
   "outputs": [],
   "source": [
    "def train_ner(n_epoch:int=5, train_data:list=None, val_data:list=None, max_batch_size:int=32):\n",
    "    with nlp.disable_pipes(*other_pipes):  # only train NER\n",
    "        train_stats = []\n",
    "        dropout = decaying(0.5, 0.2, 0.3) # Gradually decrease dropout rate from 0.5 to 0.2\n",
    "        batch_size = compounding(4.0, max_batch_size, 1.001)\n",
    "        \n",
    "        for epoch in range(n_epoch):\n",
    "            random.shuffle(train_data)\n",
    "            batches = minibatch(train_data, size=batch_size)\n",
    "            losses = {}\n",
    "\n",
    "            for batch in batches:\n",
    "                texts, annotations = zip(*batch)\n",
    "                nlp.update(\n",
    "                    texts, \n",
    "                    annotations, \n",
    "                    drop = next(dropout),\n",
    "                    sgd = optimizer,\n",
    "                    losses=losses)\n",
    "            \n",
    "            print(f\"Epoch: {epoch+1}\")\n",
    "            print(f\"Losses: {losses}\")\n",
    "            val_score = evaluate_ner(nlp, val_data)\n",
    "            print(val_score)\n",
    "\n",
    "            train_stats.append(losses)\n",
    "            train_stats.append(val_score)"
   ]
  },
  {
   "cell_type": "code",
   "execution_count": 13,
   "metadata": {},
   "outputs": [
    {
     "name": "stdout",
     "output_type": "stream",
     "text": [
      "Losses {'ner': 15661.537846056572}\n",
      "{'uas': 0.0, 'las': 0.0, 'las_per_type': {'': {'p': 0.0, 'r': 0.0, 'f': 0.0}}, 'ents_p': 86.15148292567648, 'ents_r': 84.74950598628385, 'ents_f': 85.44474393530997, 'ents_per_type': {'ORG': {'p': 77.28888888888889, 'r': 83.1261950286807, 'f': 80.10133578995855}, 'LOC': {'p': 85.30915853091585, 'r': 87.6313276026743, 'f': 86.45465253239105}, 'PER': {'p': 93.6266020090059, 'r': 85.83677357891393, 'f': 89.56262425447315}, 'MISC': {'p': 86.29787234042553, 'r': 79.96845425867508, 'f': 83.01268931641424}}, 'tags_acc': 0.0, 'token_acc': 100.0, 'textcat_score': 0.0, 'textcats_per_cat': {}}\n",
      "Losses {'ner': 7101.599814165207}\n",
      "{'uas': 0.0, 'las': 0.0, 'las_per_type': {'': {'p': 0.0, 'r': 0.0, 'f': 0.0}}, 'ents_p': 89.13430708941931, 'ents_r': 87.24863419737301, 'ents_f': 88.18139097744361, 'ents_per_type': {'PER': {'p': 92.815344603381, 'r': 90.66370276278184, 'f': 91.72690763052209}, 'ORG': {'p': 85.4608181370133, 'r': 82.88718929254301, 'f': 84.15433147294345}, 'LOC': {'p': 88.5470894462849, 'r': 89.3505253104107, 'f': 88.94699310672688}, 'MISC': {'p': 86.94929343308395, 'r': 82.49211356466877, 'f': 84.66208012950223}}, 'tags_acc': 0.0, 'token_acc': 100.0, 'textcat_score': 0.0, 'textcats_per_cat': {}}\n",
      "Losses {'ner': 4599.354534214304}\n",
      "{'uas': 0.0, 'las': 0.0, 'las_per_type': {'': {'p': 0.0, 'r': 0.0, 'f': 0.0}}, 'ents_p': 89.3205022884638, 'ents_r': 88.46913867255608, 'ents_f': 88.8927820602663, 'ents_per_type': {'PER': {'p': 90.4186046511628, 'r': 92.60082565893934, 'f': 91.49670536554754}, 'ORG': {'p': 86.37264618434092, 'r': 83.31739961759082, 'f': 84.81751824817519}, 'LOC': {'p': 89.25735637552546, 'r': 91.26074498567334, 'f': 90.24793388429751}, 'MISC': {'p': 91.55672823218998, 'r': 82.09779179810725, 'f': 86.56964656964657}}, 'tags_acc': 0.0, 'token_acc': 100.0, 'textcat_score': 0.0, 'textcats_per_cat': {}}\n",
      "Losses {'ner': 3285.1332846054574}\n",
      "{'uas': 0.0, 'las': 0.0, 'las_per_type': {'': {'p': 0.0, 'r': 0.0, 'f': 0.0}}, 'ents_p': 89.70727101038716, 'ents_r': 88.34127629896548, 'ents_f': 89.01903367496341, 'ents_per_type': {'PER': {'p': 92.3690932311622, 'r': 91.87043505874881, 'f': 92.11908931698774}, 'ORG': {'p': 86.14931237721022, 'r': 83.8432122370937, 'f': 84.98062015503875}, 'LOC': {'p': 89.7667777248929, 'r': 90.0668576886342, 'f': 89.9165673420739}, 'MISC': {'p': 88.69492934330839, 'r': 84.14826498422713, 'f': 86.36179684338325}}, 'tags_acc': 0.0, 'token_acc': 100.0, 'textcat_score': 0.0, 'textcats_per_cat': {}}\n",
      "Losses {'ner': 2631.7233798145317}\n",
      "{'uas': 0.0, 'las': 0.0, 'las_per_type': {'': {'p': 0.0, 'r': 0.0, 'f': 0.0}}, 'ents_p': 89.5025049516486, 'ents_r': 89.29443217482273, 'ents_f': 89.39834749214477, 'ents_per_type': {'ORG': {'p': 85.79682233991333, 'r': 85.18164435946463, 'f': 85.4881266490765}, 'LOC': {'p': 90.79518072289157, 'r': 89.97134670487105, 'f': 90.38138642360278}, 'PER': {'p': 90.51250762660159, 'r': 94.22038742457923, 'f': 92.32923603547533}, 'MISC': {'p': 90.98005203816132, 'r': 82.72870662460568, 'f': 86.65840561751342}}, 'tags_acc': 0.0, 'token_acc': 100.0, 'textcat_score': 0.0, 'textcats_per_cat': {}}\n",
      "Losses {'ner': 2084.6085708388127}\n",
      "{'uas': 0.0, 'las': 0.0, 'las_per_type': {'': {'p': 0.0, 'r': 0.0, 'f': 0.0}}, 'ents_p': 89.73513831665686, 'ents_r': 88.60862489829128, 'ents_f': 89.16832378055915, 'ents_per_type': {'ORG': {'p': 87.41258741258741, 'r': 83.65200764818356, 'f': 85.49096238397654}, 'LOC': {'p': 89.45147679324894, 'r': 91.11747851002865, 'f': 90.27679205110006}, 'PER': {'p': 92.25888324873097, 'r': 92.34677675452525, 'f': 92.30280907792412}, 'MISC': {'p': 87.5, 'r': 83.3596214511041, 'f': 85.37964458804524}}, 'tags_acc': 0.0, 'token_acc': 100.0, 'textcat_score': 0.0, 'textcats_per_cat': {}}\n",
      "Losses {'ner': 1790.3321938146837}\n",
      "{'uas': 0.0, 'las': 0.0, 'las_per_type': {'': {'p': 0.0, 'r': 0.0, 'f': 0.0}}, 'ents_p': 89.89080662205001, 'ents_r': 88.99221201906312, 'ents_f': 89.4392523364486, 'ents_per_type': {'PER': {'p': 92.42761692650335, 'r': 92.25150841536995, 'f': 92.33947870311506}, 'ORG': {'p': 87.32673267326733, 'r': 84.32122370936902, 'f': 85.7976653696498}, 'LOC': {'p': 87.43243243243242, 'r': 92.69340974212035, 'f': 89.98609179415857}, 'MISC': {'p': 92.23985890652557, 'r': 82.49211356466877, 'f': 87.09408825978352}}, 'tags_acc': 0.0, 'token_acc': 100.0, 'textcat_score': 0.0, 'textcats_per_cat': {}}\n",
      "Losses {'ner': 1522.8071136429207}\n",
      "{'uas': 0.0, 'las': 0.0, 'las_per_type': {'': {'p': 0.0, 'r': 0.0, 'f': 0.0}}, 'ents_p': 89.56134177809054, 'ents_r': 88.7597349761711, 'ents_f': 89.15873664545506, 'ents_per_type': {'ORG': {'p': 82.23920863309353, 'r': 87.4282982791587, 'f': 84.75440222428175}, 'LOC': {'p': 92.2244094488189, 'r': 89.4937917860554, 'f': 90.83858458555501}, 'PER': {'p': 92.51766217084136, 'r': 91.48936170212765, 'f': 92.00063867156315}, 'MISC': {'p': 91.00346020761245, 'r': 82.96529968454259, 'f': 86.79867986798679}}, 'tags_acc': 0.0, 'token_acc': 100.0, 'textcat_score': 0.0, 'textcats_per_cat': {}}\n",
      "Losses {'ner': 1312.5697353042779}\n",
      "{'uas': 0.0, 'las': 0.0, 'las_per_type': {'': {'p': 0.0, 'r': 0.0, 'f': 0.0}}, 'ents_p': 90.86396407044084, 'ents_r': 89.36417528769034, 'ents_f': 90.10782934833568, 'ents_per_type': {'ORG': {'p': 88.14229249011858, 'r': 85.27724665391969, 'f': 86.68610301263362}, 'LOC': {'p': 90.18779342723005, 'r': 91.73829990448901, 'f': 90.9564393939394}, 'PER': {'p': 92.58441148627328, 'r': 93.17243569387107, 'f': 92.87749287749288}, 'MISC': {'p': 92.1792618629174, 'r': 82.72870662460568, 'f': 87.19866999168745}}, 'tags_acc': 0.0, 'token_acc': 100.0, 'textcat_score': 0.0, 'textcats_per_cat': {}}\n",
      "Losses {'ner': 1140.856167016318}\n",
      "{'uas': 0.0, 'las': 0.0, 'las_per_type': {'': {'p': 0.0, 'r': 0.0, 'f': 0.0}}, 'ents_p': 90.40854660718477, 'ents_r': 89.51528536557015, 'ents_f': 89.95969861573508, 'ents_per_type': {'PER': {'p': 91.12903225806451, 'r': 93.29946014607812, 'f': 92.2014749725404}, 'ORG': {'p': 88.4920634920635, 'r': 85.27724665391969, 'f': 86.85491723466406}, 'LOC': {'p': 90.33930254476908, 'r': 91.54727793696274, 'f': 90.9392789373814}, 'MISC': {'p': 91.86851211072664, 'r': 83.75394321766562, 'f': 87.62376237623761}}, 'tags_acc': 0.0, 'token_acc': 100.0, 'textcat_score': 0.0, 'textcats_per_cat': {}}\n",
      "Losses {'ner': 1087.0706314740528}\n",
      "{'uas': 0.0, 'las': 0.0, 'las_per_type': {'': {'p': 0.0, 'r': 0.0, 'f': 0.0}}, 'ents_p': 90.13289427260966, 'ents_r': 89.08520283621992, 'ents_f': 89.60598620367122, 'ents_per_type': {'ORG': {'p': 86.94390715667312, 'r': 85.94646271510517, 'f': 86.4423076923077}, 'LOC': {'p': 87.90506617982656, 'r': 91.97707736389685, 'f': 89.89498249708285}, 'PER': {'p': 93.07122139864647, 'r': 91.71165449348999, 'f': 92.38643634037108}, 'MISC': {'p': 92.19982471516214, 'r': 82.96529968454259, 'f': 87.33914487339143}}, 'tags_acc': 0.0, 'token_acc': 100.0, 'textcat_score': 0.0, 'textcats_per_cat': {}}\n",
      "Losses {'ner': 1006.9654163974046}\n",
      "{'uas': 0.0, 'las': 0.0, 'las_per_type': {'': {'p': 0.0, 'r': 0.0, 'f': 0.0}}, 'ents_p': 89.94616104868915, 'ents_r': 89.32930373125654, 'ents_f': 89.63667113780838, 'ents_per_type': {'PER': {'p': 91.31244182438721, 'r': 93.45824071133694, 'f': 92.37288135593221}, 'ORG': {'p': 89.75139523084728, 'r': 84.56022944550669, 'f': 87.07851341373369}, 'LOC': {'p': 89.71698113207547, 'r': 90.83094555873924, 'f': 90.27052681537732}, 'MISC': {'p': 87.07317073170732, 'r': 84.46372239747633, 'f': 85.74859887910328}}, 'tags_acc': 0.0, 'token_acc': 100.0, 'textcat_score': 0.0, 'textcats_per_cat': {}}\n",
      "Losses {'ner': 951.3813020243251}\n",
      "{'uas': 0.0, 'las': 0.0, 'las_per_type': {'': {'p': 0.0, 'r': 0.0, 'f': 0.0}}, 'ents_p': 89.90052662375658, 'ents_r': 89.29443217482273, 'ents_f': 89.59645439701424, 'ents_per_type': {'ORG': {'p': 85.88346755092373, 'r': 86.66347992351817, 'f': 86.27171068284558}, 'LOC': {'p': 89.72795497185741, 'r': 91.35625596943649, 'f': 90.53478466635116}, 'PER': {'p': 92.5925925925926, 'r': 92.09272785011115, 'f': 92.34198376054769}, 'MISC': {'p': 90.25641025641026, 'r': 83.2807570977918, 'f': 86.62838392124692}}, 'tags_acc': 0.0, 'token_acc': 100.0, 'textcat_score': 0.0, 'textcats_per_cat': {}}\n",
      "Losses {'ner': 919.2392247494863}\n",
      "{'uas': 0.0, 'las': 0.0, 'las_per_type': {'': {'p': 0.0, 'r': 0.0, 'f': 0.0}}, 'ents_p': 90.00350754121361, 'ents_r': 89.48041380913635, 'ents_f': 89.74119841454883, 'ents_per_type': {'ORG': {'p': 85.37383177570094, 'r': 87.33269598470363, 'f': 86.34215500945179}, 'LOC': {'p': 90.1608325449385, 'r': 91.02196752626553, 'f': 90.5893536121673}, 'PER': {'p': 92.45463228271251, 'r': 92.2197523023182, 'f': 92.33704292527821}, 'MISC': {'p': 91.62348877374784, 'r': 83.67507886435331, 'f': 87.46908491343775}}, 'tags_acc': 0.0, 'token_acc': 100.0, 'textcat_score': 0.0, 'textcats_per_cat': {}}\n",
      "Losses {'ner': 821.9323778398393}\n",
      "{'uas': 0.0, 'las': 0.0, 'las_per_type': {'': {'p': 0.0, 'r': 0.0, 'f': 0.0}}, 'ents_p': 90.22697871339527, 'ents_r': 89.17819365337672, 'ents_f': 89.69952063603412, 'ents_per_type': {'ORG': {'p': 86.3066538090646, 'r': 85.56405353728489, 'f': 85.93374939990397}, 'LOC': {'p': 90.20350212967345, 'r': 91.02196752626553, 'f': 90.61088661754219}, 'PER': {'p': 93.20294966335364, 'r': 92.3150206414735, 'f': 92.7568602425016}, 'MISC': {'p': 89.30659983291562, 'r': 84.30599369085174, 'f': 86.7342799188641}}, 'tags_acc': 0.0, 'token_acc': 100.0, 'textcat_score': 0.0, 'textcats_per_cat': {}}\n",
      "Losses {'ner': 789.6986549803987}\n",
      "{'uas': 0.0, 'las': 0.0, 'las_per_type': {'': {'p': 0.0, 'r': 0.0, 'f': 0.0}}, 'ents_p': 89.70450281425892, 'ents_r': 88.92246890619552, 'ents_f': 89.31177397700077, 'ents_per_type': {'PER': {'p': 91.39114160948222, 'r': 93.04541124166403, 'f': 92.2108575924469}, 'ORG': {'p': 84.1709722874589, 'r': 85.65965583173997, 'f': 84.90878938640132}, 'LOC': {'p': 92.15976331360946, 'r': 89.25501432664757, 'f': 90.68413391557496}, 'MISC': {'p': 90.90128755364807, 'r': 83.51735015772871, 'f': 87.0530209617756}}, 'tags_acc': 0.0, 'token_acc': 100.0, 'textcat_score': 0.0, 'textcats_per_cat': {}}\n",
      "Losses {'ner': 799.5908558412048}\n",
      "{'uas': 0.0, 'las': 0.0, 'las_per_type': {'': {'p': 0.0, 'r': 0.0, 'f': 0.0}}, 'ents_p': 90.7725068023187, 'ents_r': 89.18981750552133, 'ents_f': 89.97420262664164, 'ents_per_type': {'PER': {'p': 92.5984752223634, 'r': 92.56906954588759, 'f': 92.58377004922978}, 'ORG': {'p': 89.73577235772358, 'r': 84.4168260038241, 'f': 86.99507389162561}, 'LOC': {'p': 88.75631023405232, 'r': 92.35912129894938, 'f': 90.52188158202668}, 'MISC': {'p': 91.36442141623489, 'r': 83.4384858044164, 'f': 87.22176422093982}}, 'tags_acc': 0.0, 'token_acc': 100.0, 'textcat_score': 0.0, 'textcats_per_cat': {}}\n",
      "Losses {'ner': 742.3240410685248}\n",
      "{'uas': 0.0, 'las': 0.0, 'las_per_type': {'': {'p': 0.0, 'r': 0.0, 'f': 0.0}}, 'ents_p': 90.03621072304637, 'ents_r': 89.59665233058236, 'ents_f': 89.81589373106502, 'ents_per_type': {'PER': {'p': 92.60204081632652, 'r': 92.2197523023182, 'f': 92.41050119331743}, 'ORG': {'p': 86.27543776620918, 'r': 87.14149139579351, 'f': 86.7063020214031}, 'LOC': {'p': 88.90934192360793, 'r': 92.26361031518626, 'f': 90.55542535739396}, 'MISC': {'p': 92.09833187006146, 'r': 82.72870662460568, 'f': 87.16244287494807}}, 'tags_acc': 0.0, 'token_acc': 100.0, 'textcat_score': 0.0, 'textcats_per_cat': {}}\n",
      "Losses {'ner': 659.5134500245222}\n",
      "{'uas': 0.0, 'las': 0.0, 'las_per_type': {'': {'p': 0.0, 'r': 0.0, 'f': 0.0}}, 'ents_p': 90.6616167593798, 'ents_r': 89.03870742764151, 'ents_f': 89.84283368519822, 'ents_per_type': {'PER': {'p': 91.56288916562889, 'r': 93.3947284852334, 'f': 92.4697374626631}, 'ORG': {'p': 90.29889879391715, 'r': 82.31357552581262, 'f': 86.12153038259565}, 'LOC': {'p': 91.22807017543859, 'r': 91.88156638013372, 'f': 91.55365215322388}, 'MISC': {'p': 87.87878787878788, 'r': 84.62145110410094, 'f': 86.2193652069104}}, 'tags_acc': 0.0, 'token_acc': 100.0, 'textcat_score': 0.0, 'textcats_per_cat': {}}\n",
      "Losses {'ner': 763.9773517085305}\n",
      "{'uas': 0.0, 'las': 0.0, 'las_per_type': {'': {'p': 0.0, 'r': 0.0, 'f': 0.0}}, 'ents_p': 90.62573789846518, 'ents_r': 89.22468906195513, 'ents_f': 89.91975634042055, 'ents_per_type': {'PER': {'p': 91.18012422360249, 'r': 93.23594791997459, 'f': 92.19657717067044}, 'ORG': {'p': 88.46918489065607, 'r': 85.08604206500956, 'f': 86.74463937621833}, 'LOC': {'p': 91.64666346615459, 'r': 91.16523400191022, 'f': 91.40531481924828}, 'MISC': {'p': 90.99567099567099, 'r': 82.88643533123027, 'f': 86.7519603796946}}, 'tags_acc': 0.0, 'token_acc': 100.0, 'textcat_score': 0.0, 'textcats_per_cat': {}}\n"
     ]
    }
   ],
   "source": [
    "train_ner(n_epoch=20, train_data=train_data, val_data=val_data, max_batch_size=128)"
   ]
  },
  {
   "cell_type": "code",
   "execution_count": 14,
   "metadata": {},
   "outputs": [
    {
     "data": {
      "text/plain": [
       "{'uas': 0.0,\n",
       " 'las': 0.0,\n",
       " 'las_per_type': {'': {'p': 0.0, 'r': 0.0, 'f': 0.0}},\n",
       " 'ents_p': 90.62573789846518,\n",
       " 'ents_r': 89.22468906195513,\n",
       " 'ents_f': 89.91975634042055,\n",
       " 'ents_per_type': {'PER': {'p': 91.18012422360249,\n",
       "   'r': 93.23594791997459,\n",
       "   'f': 92.19657717067044},\n",
       "  'ORG': {'p': 88.46918489065607,\n",
       "   'r': 85.08604206500956,\n",
       "   'f': 86.74463937621833},\n",
       "  'LOC': {'p': 91.64666346615459,\n",
       "   'r': 91.16523400191022,\n",
       "   'f': 91.40531481924828},\n",
       "  'MISC': {'p': 90.99567099567099,\n",
       "   'r': 82.88643533123027,\n",
       "   'f': 86.7519603796946}},\n",
       " 'tags_acc': 0.0,\n",
       " 'token_acc': 100.0,\n",
       " 'textcat_score': 0.0,\n",
       " 'textcats_per_cat': {}}"
      ]
     },
     "execution_count": 14,
     "metadata": {},
     "output_type": "execute_result"
    }
   ],
   "source": [
    "# Evaluate on val set\n",
    "evaluate_ner(nlp, val_data)"
   ]
  },
  {
   "cell_type": "code",
   "execution_count": null,
   "metadata": {},
   "outputs": [],
   "source": [
    "!mkdir -p model"
   ]
  },
  {
   "cell_type": "code",
   "execution_count": 15,
   "metadata": {},
   "outputs": [],
   "source": [
    "# Save the model\n",
    "nlp.to_disk('model/ner_v1')"
   ]
  },
  {
   "cell_type": "code",
   "execution_count": 16,
   "metadata": {},
   "outputs": [],
   "source": [
    "# Weight averaging (https://www.aclweb.org/anthology/P04-1015/)\n",
    "with nlp.use_params(optimizer.averages):\n",
    "    nlp.to_disk('model/ner_v1_wa')"
   ]
  },
  {
   "cell_type": "code",
   "execution_count": 17,
   "metadata": {},
   "outputs": [],
   "source": [
    "nlp_wa = nlp.from_disk('model/ner_v1_wa')"
   ]
  },
  {
   "cell_type": "code",
   "execution_count": 18,
   "metadata": {},
   "outputs": [
    {
     "data": {
      "text/plain": [
       "{'uas': 0.0,\n",
       " 'las': 0.0,\n",
       " 'las_per_type': {'': {'p': 0.0, 'r': 0.0, 'f': 0.0}},\n",
       " 'ents_p': 90.86431335757007,\n",
       " 'ents_r': 90.06160641636637,\n",
       " 'ents_f': 90.46117921774665,\n",
       " 'ents_per_type': {'PER': {'p': 92.58908861557869,\n",
       "   'r': 93.23594791997459,\n",
       "   'f': 92.91139240506328},\n",
       "  'ORG': {'p': 87.93774319066148,\n",
       "   'r': 86.4244741873805,\n",
       "   'f': 87.17454194792673},\n",
       "  'LOC': {'p': 90.96895578551269,\n",
       "   'r': 92.35912129894938,\n",
       "   'f': 91.65876777251182},\n",
       "  'MISC': {'p': 91.14139693356049,\n",
       "   'r': 84.38485804416403,\n",
       "   'f': 87.63308763308764}},\n",
       " 'tags_acc': 0.0,\n",
       " 'token_acc': 100.0,\n",
       " 'textcat_score': 0.0,\n",
       " 'textcats_per_cat': {}}"
      ]
     },
     "execution_count": 18,
     "metadata": {},
     "output_type": "execute_result"
    }
   ],
   "source": [
    "# Evaluate on val set\n",
    "evaluate_ner(nlp_wa, val_data)"
   ]
  },
  {
   "cell_type": "code",
   "execution_count": 19,
   "metadata": {},
   "outputs": [
    {
     "data": {
      "text/plain": [
       "{'uas': 0.0,\n",
       " 'las': 0.0,\n",
       " 'las_per_type': {'': {'p': 0.0, 'r': 0.0, 'f': 0.0}},\n",
       " 'ents_p': 83.29101680570669,\n",
       " 'ents_r': 84.92357001972387,\n",
       " 'ents_f': 84.09937129951778,\n",
       " 'ents_per_type': {'PER': {'p': 88.78470970068518,\n",
       "   'r': 88.78470970068518,\n",
       "   'f': 88.78470970068518},\n",
       "  'LOC': {'p': 85.03778337531486,\n",
       "   'r': 87.6883116883117,\n",
       "   'f': 86.34271099744245},\n",
       "  'ORG': {'p': 79.71360381861575,\n",
       "   'r': 80.28846153846155,\n",
       "   'f': 80.00000000000001},\n",
       "  'MISC': {'p': 73.57357357357357,\n",
       "   'r': 80.06535947712419,\n",
       "   'f': 76.68231611893583}},\n",
       " 'tags_acc': 0.0,\n",
       " 'token_acc': 100.0,\n",
       " 'textcat_score': 0.0,\n",
       " 'textcats_per_cat': {}}"
      ]
     },
     "execution_count": 19,
     "metadata": {},
     "output_type": "execute_result"
    }
   ],
   "source": [
    "# Evaluate on test set\n",
    "evaluate_ner(nlp_wa, test_data)"
   ]
  },
  {
   "cell_type": "markdown",
   "metadata": {},
   "source": [
    "### Test (spot check)"
   ]
  },
  {
   "cell_type": "code",
   "execution_count": 20,
   "metadata": {},
   "outputs": [
    {
     "data": {
      "image/png": "[encoded data removed]",
      "text/plain": [
       "<IPython.core.display.Image object>"
      ]
     },
     "execution_count": 20,
     "metadata": {},
     "output_type": "execute_result"
    }
   ],
   "source": [
    "doc = [nlp(text) for text, annotation in [test_data[random.randint(0, len(test_data))]]][0]\n",
    "spacy.displacy.render(doc, style='ent')"
   ]
  },
  {
   "cell_type": "code",
   "execution_count": 21,
   "metadata": {},
   "outputs": [
    {
     "data": {
      "image/png": "[encoded data removed]",
      "text/plain": [
       "<IPython.core.display.Image object>"
      ]
     },
     "execution_count": 21,
     "metadata": {},
     "output_type": "execute_result"
    }
   ],
   "source": [
    "doc = [nlp(text) for text, annotation in [test_data[random.randint(0, len(test_data))]]][0]\n",
    "spacy.displacy.render(doc, style='ent')"
   ]
  },
  {
   "cell_type": "code",
   "execution_count": 22,
   "metadata": {},
   "outputs": [
    {
     "data": {
      "image/png": "[encoded data removed]",
      "text/plain": [
       "<IPython.core.display.Image object>"
      ]
     },
     "execution_count": 22,
     "metadata": {},
     "output_type": "execute_result"
    }
   ],
   "source": [
    "doc = [nlp(text) for text, annotation in [test_data[random.randint(0, len(test_data))]]][0]\n",
    "spacy.displacy.render(doc, style='ent')"
   ]
  },
  {
   "cell_type": "markdown",
   "metadata": {},
   "source": [
    "## Using Transformer-based models\n",
    "`spacy-transformers` package provides spaCy model pipelines that wrap Hugging Face's [transformers package](https://github.com/huggingface/transformers) for convenient access to state-of-the-art transformer architectures, such as [BERT](https://arxiv.org/abs/1810.04805), [GPT-2](https://d4mucfpksywv.cloudfront.net/better-language-models/language_models_are_unsupervised_multitask_learners.pdf), [XLNet](https://arxiv.org/abs/1906.08237), etc. Those models were pretrained on a massive amount of text using language models (LM).   \n",
    "\n",
    "In this tutorial, we'll be using English BERT (uncased, large).\n"
   ]
  },
  {
   "cell_type": "code",
   "execution_count": 2,
   "metadata": {},
   "outputs": [],
   "source": [
    "# !pip install spacy-transformers"
   ]
  },
  {
   "cell_type": "code",
   "execution_count": 3,
   "metadata": {},
   "outputs": [],
   "source": [
    "# !python -m spacy download en_trf_bertbaseuncased_lg\n",
    "# # Restart kernel after the model is downloaded"
   ]
  },
  {
   "cell_type": "code",
   "execution_count": 5,
   "metadata": {},
   "outputs": [],
   "source": [
    "import torch\n",
    "\n",
    "# Use CUDA tensor\n",
    "if spacy.prefer_gpu():\n",
    "    torch.set_default_tensor_type(\"torch.cuda.FloatTensor\")\n",
    "\n",
    "# Load model\n",
    "nlp = spacy.load(\"en_trf_bertbaseuncased_lg\")"
   ]
  },
  {
   "cell_type": "code",
   "execution_count": 6,
   "metadata": {},
   "outputs": [
    {
     "name": "stdout",
     "output_type": "stream",
     "text": [
      "['sentencizer', 'trf_wordpiecer', 'trf_tok2vec']\n"
     ]
    }
   ],
   "source": [
    "# Pipeline is different from normal spaCy\n",
    "print(nlp.pipe_names)"
   ]
  },
  {
   "cell_type": "markdown",
   "metadata": {},
   "source": [
    "### Similarity check  \n",
    "Unlike normal word vectors, LM-based models like BERT return contextualized word vectors.  This feature hooks to existing spaCy's `similarity` method. \n",
    "\n",
    "Similarly, you can hook your own model (e.g. `Natural Language Inference` (entailment, neutral, contradiction)) that was trained in another ML framework like TensorFlow, to spaCy's `similarity` method."
   ]
  },
  {
   "cell_type": "code",
   "execution_count": 7,
   "metadata": {},
   "outputs": [
    {
     "name": "stdout",
     "output_type": "stream",
     "text": [
      "0.7342854\n",
      "0.43365765\n"
     ]
    }
   ],
   "source": [
    "apple1 = nlp(\"Apple shares rose on the news.\")\n",
    "apple2 = nlp(\"Apple sold fewer iPhones this quarter.\")\n",
    "apple3 = nlp(\"Apple pie is delicious.\")\n",
    "print(apple1[0].similarity(apple2[0]))  # Both refer to Apple (company)\n",
    "print(apple1[0].similarity(apple3[0]))  # Apple (company) and Apple (food)"
   ]
  },
  {
   "cell_type": "code",
   "execution_count": 8,
   "metadata": {},
   "outputs": [
    {
     "data": {
      "text/plain": [
       "array(0.54049635, dtype=float32)"
      ]
     },
     "execution_count": 8,
     "metadata": {},
     "output_type": "execute_result"
    }
   ],
   "source": [
    "# Sentence-level similarity\n",
    "apple1.similarity(apple3)"
   ]
  },
  {
   "cell_type": "code",
   "execution_count": 9,
   "metadata": {},
   "outputs": [
    {
     "data": {
      "text/plain": [
       "((9, 768), (10, 768), (7, 768))"
      ]
     },
     "execution_count": 9,
     "metadata": {},
     "output_type": "execute_result"
    }
   ],
   "source": [
    "# (num_wordpieces_tokens, vector_size)\n",
    "# [CLS] token embedding can be retrieved by trf_last_hidden_state[0]  \n",
    "apple1._.trf_last_hidden_state.shape, apple2._.trf_last_hidden_state.shape, apple3._.trf_last_hidden_state.shape,"
   ]
  },
  {
   "cell_type": "code",
   "execution_count": 10,
   "metadata": {},
   "outputs": [
    {
     "name": "stdout",
     "output_type": "stream",
     "text": [
      "['[CLS]', 'apple', 'sold', 'fewer', 'iphone', '##s', 'this', 'quarter', '.', '[SEP]']\n"
     ]
    }
   ],
   "source": [
    "# print wordpieces\n",
    "print(apple2._.trf_word_pieces_)"
   ]
  },
  {
   "cell_type": "markdown",
   "metadata": {},
   "source": [
    "### Transfer Learning  \n",
    "The pretrained transformer models can be also used for transfer learning. Similar to computer vision's pretrained models (e.g. ResNet, Inception), you can start training on your smaller dataset with labels specific to your problem. Fine-tuning (changing the weights of the pretrained models) is possible by `nlp.update`.  \n",
    "\n",
    "Transfer learning is only available for pre-defined spaCy's pipelines (for `spacy-transformers`, only `trf_textcat`), so it cannot be used for other unrelated tasks like reading comprehension."
   ]
  },
  {
   "cell_type": "code",
   "execution_count": 11,
   "metadata": {},
   "outputs": [],
   "source": [
    "from spacy.util import minibatch\n",
    "import spacy_transformers\n",
    "from spacy_transformers.util import cyclic_triangular_rate\n",
    "from sklearn.model_selection import train_test_split"
   ]
  },
  {
   "cell_type": "code",
   "execution_count": 12,
   "metadata": {},
   "outputs": [
    {
     "data": {
      "text/plain": [
       "(99989, 3)"
      ]
     },
     "execution_count": 12,
     "metadata": {},
     "output_type": "execute_result"
    }
   ],
   "source": [
    "df = pd.read_csv('data/train.csv.zip', sep=',', compression='zip', encoding='latin_1')\n",
    "df.shape"
   ]
  },
  {
   "cell_type": "code",
   "execution_count": 13,
   "metadata": {},
   "outputs": [
    {
     "data": {
      "image/png": "[encoded data removed]",
      "text/plain": [
       "<Figure size 432x288 with 1 Axes>"
      ]
     },
     "metadata": {
      "needs_background": "light"
     },
     "output_type": "display_data"
    }
   ],
   "source": [
    "# Slighly imbalanced data\n",
    "df.Sentiment.value_counts().plot(kind=\"bar\");"
   ]
  },
  {
   "cell_type": "code",
   "execution_count": 14,
   "metadata": {},
   "outputs": [],
   "source": [
    "#Splitting to train+val and test\n",
    "trainval_X, test_X, trainval_y, test_y = train_test_split(df[['SentimentText']], df[['Sentiment']].values,\n",
    "                                                test_size = .15,\n",
    "                                                random_state=1234)"
   ]
  },
  {
   "cell_type": "code",
   "execution_count": 15,
   "metadata": {},
   "outputs": [],
   "source": [
    "trainval_X['Sentiment'] = trainval_y\n",
    "\n",
    "#Splitting to train and val\n",
    "train_X, val_X, train_y, val_y = train_test_split(trainval_X[['SentimentText']], trainval_X[['Sentiment']].values,\n",
    "                                                  test_size = .18,\n",
    "                                                  random_state=1)"
   ]
  },
  {
   "cell_type": "code",
   "execution_count": 16,
   "metadata": {},
   "outputs": [
    {
     "data": {
      "text/plain": [
       "((69691, 1), (15299, 1), (14999, 1))"
      ]
     },
     "execution_count": 16,
     "metadata": {},
     "output_type": "execute_result"
    }
   ],
   "source": [
    "train_X.shape, val_X.shape, test_X.shape"
   ]
  },
  {
   "cell_type": "code",
   "execution_count": 17,
   "metadata": {},
   "outputs": [],
   "source": [
    "def prepare_data(data_X:pd.DataFrame=None, data_y:np.array=None, text_column:str='text'):\n",
    "    labels = [{\"1\": bool(y), \"0\": not bool(y)} for y in data_y]\n",
    "    texts = tuple(data_X[text_column].values.tolist())\n",
    "    combined_data = list(zip(texts, [{\"cats\": cats} for cats in labels]))\n",
    "    \n",
    "    return combined_data, texts, labels"
   ]
  },
  {
   "cell_type": "markdown",
   "metadata": {},
   "source": [
    "Padding is done automatically with subbatching, which regroups the batched sentences by sequence length, to minimise the amount of padding required. "
   ]
  },
  {
   "cell_type": "code",
   "execution_count": 18,
   "metadata": {},
   "outputs": [],
   "source": [
    "# Format data for spaCy\n",
    "train_data, train_text, train_label = prepare_data(train_X, train_y, \"SentimentText\")\n",
    "val_data, val_text, val_label = prepare_data(val_X, val_y, \"SentimentText\")\n",
    "test_data, test_text, test_label = prepare_data(test_X, test_y, \"SentimentText\")"
   ]
  },
  {
   "cell_type": "code",
   "execution_count": 19,
   "metadata": {},
   "outputs": [],
   "source": [
    "# Create a pipeline for text classification\n",
    "textcat = nlp.create_pipe(\"trf_textcat\", config={\"exclusive_classes\": True, \"architecture\": \"softmax_class_vector\"})\n",
    "for label in (\"1\", \"0\"):\n",
    "    textcat.add_label(label)\n",
    "nlp.add_pipe(textcat, last=True)"
   ]
  },
  {
   "cell_type": "code",
   "execution_count": 20,
   "metadata": {},
   "outputs": [],
   "source": [
    "# Evaluation function\n",
    "def evaluate_classifier(nlp:spacy_transformers.language.TransformersLanguage=None, \n",
    "                        val_text:tuple=None, \n",
    "                        val_label:list=None, \n",
    "                        batch_size:int=32):\n",
    "    proba_list = []\n",
    "    label_list = []\n",
    "    \n",
    "    for i, doc in enumerate(nlp.pipe(val_text, batch_size=batch_size)):\n",
    "        pred = doc.cats['1']\n",
    "        label = 1.0 if val_label[i]['1'] else 0.0\n",
    "        proba_list.append(pred)\n",
    "        label_list.append(label)\n",
    "    \n",
    "    pred_indices = np.round(proba_list)\n",
    "    accuracy = accuracy_score(label_list, pred_indices)\n",
    "    roc_auc = roc_auc_score(label_list, proba_list)\n",
    "    f1 = f1_score(label_list, pred_indices)\n",
    "    precision = precision_score(label_list, pred_indices)\n",
    "    recall = recall_score(label_list, pred_indices)\n",
    "    \n",
    "    return {'accuracy': accuracy, 'roc_auc': roc_auc, 'f1': f1, 'precision': precision, 'recall': recall}"
   ]
  },
  {
   "cell_type": "code",
   "execution_count": 21,
   "metadata": {},
   "outputs": [],
   "source": [
    "# Optimizer (Adam)\n",
    "optimizer = nlp.resume_training()\n",
    "optimizer.alpha = 0.001\n",
    "optimizer.trf_weight_decay = 0.005\n",
    "optimizer.L2 = 0.0"
   ]
  },
  {
   "cell_type": "code",
   "execution_count": 22,
   "metadata": {},
   "outputs": [],
   "source": [
    "def train_classifier(n_epoch:int=5, \n",
    "                     train_data:list=None, \n",
    "                     val_text:tuple=None, \n",
    "                     val_label:list=None, \n",
    "                     batch_size:int=32, \n",
    "                     lr:float=1e-3):\n",
    "    train_stats = []\n",
    "    dropout = decaying(0.2, 0.1, 0.3) # Gradually decrease dropout rate from 0.2 to 0.1\n",
    "    # Cyclic triangular rate (https://arxiv.org/abs/1506.01186)\n",
    "    learn_rates = cyclic_triangular_rate(\n",
    "        lr / 3, lr * 3, 2 * len(train_data) // batch_size\n",
    "    )\n",
    "\n",
    "    for epoch in range(n_epoch):\n",
    "        random.shuffle(train_data)\n",
    "        batches = minibatch(train_data, size=batch_size)\n",
    "        losses = {}\n",
    "\n",
    "        for batch in batches:\n",
    "            optimizer.trf_lr = next(learn_rates)\n",
    "            texts, cats = zip(*batch)\n",
    "            nlp.update(\n",
    "                texts, \n",
    "                cats, \n",
    "                drop = next(dropout),\n",
    "                sgd = optimizer,\n",
    "                losses=losses)\n",
    "\n",
    "        print(f\"Epoch: {epoch+1}\")\n",
    "        print(f\"Losses: {losses}\")\n",
    "        \n",
    "        with nlp.use_params(optimizer.averages):\n",
    "            val_score = evaluate_classifier(nlp, val_text, val_label, batch_size)\n",
    "\n",
    "        print(val_score)\n",
    "\n",
    "        train_stats.append(losses)\n",
    "        train_stats.append(val_score)"
   ]
  },
  {
   "cell_type": "code",
   "execution_count": 23,
   "metadata": {},
   "outputs": [
    {
     "name": "stdout",
     "output_type": "stream",
     "text": [
      "Epoch: 1\n",
      "Losses: {'trf_textcat': 0.740542416649987}\n",
      "{'accuracy': 0.7903784561082424, 'roc_auc': 0.8687040302849849, 'f1': 0.8193341220212945, 'precision': 0.7986820428336079, 'recall': 0.8410825815405968}\n",
      "Epoch: 2\n",
      "Losses: {'trf_textcat': 0.6592710536715458}\n",
      "{'accuracy': 0.8004444734949997, 'roc_auc': 0.8743129609314639, 'f1': 0.8263861245379585, 'precision': 0.8128425998433829, 'recall': 0.8403886190145732}\n",
      "Epoch: 3\n",
      "Losses: {'trf_textcat': 0.6218109232067945}\n",
      "{'accuracy': 0.8072423034185241, 'roc_auc': 0.8829449608338314, 'f1': 0.8343537606021456, 'precision': 0.8110734956863601, 'recall': 0.8590099467962063}\n",
      "Epoch: 4\n",
      "Losses: {'trf_textcat': 0.586101518390933}\n",
      "{'accuracy': 0.8087456696516112, 'roc_auc': 0.8840642835508836, 'f1': 0.8362252322847868, 'precision': 0.8101952277657267, 'recall': 0.8639833448993754}\n",
      "Epoch: 5\n",
      "Losses: {'trf_textcat': 0.5791687902383273}\n",
      "{'accuracy': 0.8085495784038172, 'roc_auc': 0.8853615213060473, 'f1': 0.8355510639492449, 'precision': 0.8118930714675395, 'recall': 0.8606291926902614}\n"
     ]
    }
   ],
   "source": [
    "train_classifier(n_epoch=5, train_data=train_data, val_text=val_text, val_label=val_label, batch_size=32, lr=2e-6)"
   ]
  },
  {
   "cell_type": "code",
   "execution_count": 24,
   "metadata": {},
   "outputs": [
    {
     "data": {
      "text/plain": [
       "{'accuracy': 0.8085495784038172,\n",
       " 'roc_auc': 0.8853615213060473,\n",
       " 'f1': 0.8355510639492449,\n",
       " 'precision': 0.8118930714675395,\n",
       " 'recall': 0.8606291926902614}"
      ]
     },
     "execution_count": 24,
     "metadata": {},
     "output_type": "execute_result"
    }
   ],
   "source": [
    "# Evaluate on val set\n",
    "evaluate_classifier(nlp, val_text, val_label, 32)"
   ]
  },
  {
   "cell_type": "code",
   "execution_count": 25,
   "metadata": {},
   "outputs": [],
   "source": [
    "# Weight averaging (https://www.aclweb.org/anthology/P04-1015/)\n",
    "with nlp.use_params(optimizer.averages):\n",
    "    nlp.to_disk('model/bert_textcat_wa')\n",
    "    \n",
    "nlp_wa = nlp.from_disk('model/bert_textcat_wa')"
   ]
  },
  {
   "cell_type": "code",
   "execution_count": 26,
   "metadata": {},
   "outputs": [
    {
     "data": {
      "text/plain": [
       "{'accuracy': 0.8096539769317954,\n",
       " 'roc_auc': 0.8884111784230834,\n",
       " 'f1': 0.8315534839813556,\n",
       " 'precision': 0.8431442928930366,\n",
       " 'recall': 0.8202770341054592}"
      ]
     },
     "execution_count": 26,
     "metadata": {},
     "output_type": "execute_result"
    }
   ],
   "source": [
    "# Evaluate on val set\n",
    "evaluate_classifier(nlp, val_text, val_label, 32)"
   ]
  },
  {
   "cell_type": "code",
   "execution_count": 27,
   "metadata": {},
   "outputs": [
    {
     "data": {
      "text/plain": [
       "{'accuracy': 0.8175211680778719,\n",
       " 'roc_auc': 0.8917429357669111,\n",
       " 'f1': 0.8439655663873212,\n",
       " 'precision': 0.8270391061452514,\n",
       " 'recall': 0.861599348155046}"
      ]
     },
     "execution_count": 27,
     "metadata": {},
     "output_type": "execute_result"
    }
   ],
   "source": [
    "# Evaluate on test set\n",
    "evaluate_classifier(nlp_wa, test_text, test_label, 32)"
   ]
  },
  {
   "cell_type": "code",
   "execution_count": 28,
   "metadata": {},
   "outputs": [],
   "source": [
    "# Predict function\n",
    "def predict(nlp:spacy_transformers.language.TransformersLanguage=None, \n",
    "            val_text:tuple=None, \n",
    "            batch_size:int=32):\n",
    "    \n",
    "    proba_list = []\n",
    "    \n",
    "    for i, doc in enumerate(nlp.pipe(val_text, batch_size=batch_size)):\n",
    "        pred = doc.cats['1']\n",
    "        proba_list.append(pred)\n",
    "    \n",
    "    return proba_list"
   ]
  },
  {
   "cell_type": "code",
   "execution_count": 29,
   "metadata": {},
   "outputs": [],
   "source": [
    "probas = predict(nlp_wa, test_text)\n",
    "pred_indices = np.round(probas)"
   ]
  },
  {
   "cell_type": "code",
   "execution_count": 31,
   "metadata": {},
   "outputs": [
    {
     "data": {
      "image/png": "[encoded data removed]",
      "text/plain": [
       "<Figure size 360x360 with 2 Axes>"
      ]
     },
     "metadata": {
      "needs_background": "light"
     },
     "output_type": "display_data"
    }
   ],
   "source": [
    "skplt.plot_confusion_matrix(test_y, pred_indices, figsize=(5,5), normalize=True);"
   ]
  },
  {
   "cell_type": "code",
   "execution_count": 32,
   "metadata": {},
   "outputs": [
    {
     "data": {
      "image/png": "[encoded data removed]",
      "text/plain": [
       "<Figure size 360x360 with 2 Axes>"
      ]
     },
     "metadata": {
      "needs_background": "light"
     },
     "output_type": "display_data"
    }
   ],
   "source": [
    "skplt.plot_confusion_matrix(test_y, pred_indices, figsize=(5,5), normalize=False);"
   ]
  },
  {
   "cell_type": "code",
   "execution_count": 36,
   "metadata": {},
   "outputs": [],
   "source": [
    "# Calculate the best precision, recall, f1 score\n",
    "def calc_prec_recall_f1(y_true:np.ndarray=None, y_pred:list=None):\n",
    "    thresh_list = []\n",
    "    thresholds = []\n",
    "    for thresh in np.arange(0.01, 1.0, 0.01):\n",
    "        thresh = np.round(thresh, 2)\n",
    "        recall_res = recall_score(y_true, (y_pred > thresh).astype(int))\n",
    "        prec_res = precision_score(y_true, (y_pred > thresh).astype(int))\n",
    "        f1_res = f1_score(y_true, (y_pred > thresh).astype(int))\n",
    "        thresh_list.append([thresh, recall_res, prec_res, f1_res])\n",
    "        thresholds.append([thresh, recall_res, prec_res, f1_res])\n",
    "\n",
    "    # Ordered by F-1 in descending\n",
    "    thresholds.sort(key=lambda x: x[3], reverse=True)\n",
    "    best_thresh = thresholds[0][0]\n",
    "    best_recall = thresholds[0][1]\n",
    "    best_prec = thresholds[0][2]\n",
    "    best_f1 = thresholds[0][3]\n",
    "    return  thresh_list, best_recall, best_prec, best_f1, best_thresh"
   ]
  },
  {
   "cell_type": "code",
   "execution_count": 37,
   "metadata": {},
   "outputs": [
    {
     "name": "stdout",
     "output_type": "stream",
     "text": [
      "Optimal Recall: 0.8837155162379234 Precision: 0.8138064101189838 F1: 0.8473214285714286 at threshold: 0.45\n"
     ]
    }
   ],
   "source": [
    "thresh_list, best_recall, best_prec, best_f1, best_threshold = calc_prec_recall_f1(test_y, probas)\n",
    "print(f'Optimal Recall: {best_recall} Precision: {best_prec} F1: {best_f1} at threshold: {best_threshold}')"
   ]
  },
  {
   "cell_type": "code",
   "execution_count": 38,
   "metadata": {},
   "outputs": [
    {
     "data": {
      "image/png": "[encoded data removed]",
      "text/plain": [
       "<Figure size 864x576 with 1 Axes>"
      ]
     },
     "metadata": {
      "needs_background": "light"
     },
     "output_type": "display_data"
    }
   ],
   "source": [
    "thresh_list = np.array(thresh_list)\n",
    "threshold = thresh_list[:,0]\n",
    "recall_list = thresh_list[:,1]\n",
    "precision_list = thresh_list[:,2]\n",
    "f1_list = thresh_list[:,3]\n",
    "\n",
    "plt.figure(figsize = (12, 8))\n",
    "plt.plot(threshold, recall_list, label='recall')\n",
    "plt.plot(threshold, precision_list, label='precision')\n",
    "plt.plot(threshold, f1_list, label='f1')\n",
    "plt.title('Recall, Precision, F1')\n",
    "plt.xlabel('Threshold')\n",
    "plt.legend()\n",
    "plt.show();"
   ]
  },
  {
   "cell_type": "code",
   "execution_count": 39,
   "metadata": {},
   "outputs": [
    {
     "data": {
      "image/png": "[encoded data removed]",
      "text/plain": [
       "<Figure size 576x432 with 1 Axes>"
      ]
     },
     "metadata": {
      "needs_background": "light"
     },
     "output_type": "display_data"
    }
   ],
   "source": [
    "# ROC curve\n",
    "fp, tp, thresholds = roc_curve(test_y, probas)\n",
    "\n",
    "plt.figure(figsize = (8, 6))\n",
    "plt.plot(fp, tp)\n",
    "plt.title(\"ROC curve\")\n",
    "plt.xlabel( \"False Positive Rate\")\n",
    "plt.ylabel(\"True Positive Rate\")\n",
    "plt.show();"
   ]
  },
  {
   "cell_type": "code",
   "execution_count": 40,
   "metadata": {},
   "outputs": [],
   "source": [
    "# Comparison between prediction and true label distribution\n",
    "test_pd = pd.DataFrame(pred_indices, columns=['pred'])\n",
    "test_pd['probas'] = probas\n",
    "\n",
    "label_list = []\n",
    "\n",
    "for i in test_label:\n",
    "    label = 1.0 if i['1'] else 0.0\n",
    "    label_list.append(label)\n",
    "    \n",
    "test_pd['label'] = label_list"
   ]
  },
  {
   "cell_type": "code",
   "execution_count": 41,
   "metadata": {},
   "outputs": [
    {
     "data": {
      "image/png": "[encoded data removed]",
      "text/plain": [
       "<Figure size 432x288 with 1 Axes>"
      ]
     },
     "metadata": {
      "needs_background": "light"
     },
     "output_type": "display_data"
    }
   ],
   "source": [
    "sns.distplot(test_pd[test_pd.label == 1].probas, kde=False, bins=100, color='blue', label='Positive', norm_hist=True)\n",
    "sns.distplot(test_pd[test_pd.label == 0].probas, kde=False, bins=100, color='orange', label='Negative', norm_hist=True)\n",
    "\n",
    "plt.rcParams[\"figure.figsize\"] = (20, 10)\n",
    "plt.rcParams[\"font.size\"] = 20\n",
    "plt.rcParams[\"axes.labelsize\"] = 10\n",
    "plt.legend();"
   ]
  },
  {
   "cell_type": "markdown",
   "metadata": {},
   "source": [
    "## Annotation by Prodigy  \n",
    "[Prodigy](https://prodi.gy/) is an annotation tool that enables users to do annotation themselves via web browser. It's powered by active learning so you're asked to annotate examples that the model is unsure about. By default, it comes with **recipes** for text classification, NER, image classification, object detection, etc, but users can also build their own recipes.\n",
    "\n",
    "***This is NOT open source, so license is required. For an open source option, [doccano](https://github.com/doccano/doccano) is recommended."
   ]
  },
  {
   "cell_type": "code",
   "execution_count": 5,
   "metadata": {},
   "outputs": [
    {
     "data": {
      "text/plain": [
       "(99989, 3)"
      ]
     },
     "execution_count": 5,
     "metadata": {},
     "output_type": "execute_result"
    }
   ],
   "source": [
    "df = pd.read_csv('data/train.csv.zip', sep=',', compression='zip', encoding='latin_1')\n",
    "df.shape"
   ]
  },
  {
   "cell_type": "code",
   "execution_count": 16,
   "metadata": {},
   "outputs": [],
   "source": [
    "# Save only text column as csv format for annotation\n",
    "df.SentimentText.to_csv(\"data/test_prodigy.csv\", header=False, index=False)"
   ]
  },
  {
   "cell_type": "markdown",
   "metadata": {},
   "source": [
    "### Run Prodigy  \n",
    "1. Start the web app.  \n",
    "2. Hit `localhost:8888` on your browser.  \n",
    "\n",
    "### Use Prodigy for annotation\n",
    "1. Use pre-trained spaCy model to start creating manually annotated data set (~1000):  \n",
    "`prodigy ner.teach my_set en_core_web_lg data/test_prodigy.csv`\n",
    "2. Train a model:  \n",
    "`prodigy train ner my_set en_core_web_lg --output model/ner_v1 --n-iter 5 --eval-split 0.2 --dropout 0.2`\n",
    "3. Iterate (`ner.correct` <-> `train`) until performance is satisfactory:  \n",
    "`prodigy ner.correct my_set model/ner_v1 data/test_prodigy.csv`  \n",
    "`prodigy train ner my_set model/ner_v1 --output model/ner_v2 --n-iter 5 --eval-split 0.2 --dropout 0.2`  \n",
    "`prodigy ner.correct my_set model/ner_v2 data/test_prodigy.csv`  \n",
    "...\n",
    "4. Done. The trained model is compatible with spaCy.\n",
    "5. Optionally, output the training data set as JSONL:  \n",
    "`prodigy ner.gold-to-spacy my_set data/ner_gold.jsonl --biluo --spacy-model model/ner_v8`\n",
    "6. You can use the annotated data to train in your favoriate ML framework. For example, the data can be converted to be used in AllenNLP."
   ]
  },
  {
   "cell_type": "code",
   "execution_count": null,
   "metadata": {},
   "outputs": [],
   "source": [
    "import json\n",
    "\n",
    "with open('data/ner_gold.jsonl') as json_file:\n",
    "    prodigy_gold = [json.loads(jline) for jline in json_file]\n",
    "    \n",
    "text_ner = []\n",
    "for row in prodigy_gold:\n",
    "    text = row[0]\n",
    "    label = row[1]\n",
    "    \n",
    "    text_concat = \"\"\n",
    "    counter = 0\n",
    "    \n",
    "    for token in text.split(\" \"):\n",
    "        text_with_annotation = token + \"#\" + label[counter]\n",
    "        text_concat = text_concat + text_with_annotation + \" \"\n",
    "        counter += 1\n",
    "\n",
    "    text_ner.append(text_concat.strip())\n",
    "\n",
    "\n",
    "ner_pd = pd.DataFrame(text_ner, columns=['text'])"
   ]
  },
  {
   "cell_type": "code",
   "execution_count": null,
   "metadata": {},
   "outputs": [],
   "source": [
    "# Split into train and val\n",
    "train_X, val_X = train_test_split(ner_pd, test_size=0.2, random_state=1)"
   ]
  },
  {
   "cell_type": "code",
   "execution_count": null,
   "metadata": {},
   "outputs": [],
   "source": [
    "# Save\n",
    "train_X.to_csv(\"data/ner_train_allennlp.csv.bz2\", compression='bz2', header=False, index=False)\n",
    "val_X.to_csv(\"data/ner_val_allennlp.csv.bz2\", compression='bz2', header=False, index=False)"
   ]
  }
 ],
 "metadata": {
  "kernelspec": {
   "display_name": "Python 3",
   "language": "python",
   "name": "python3"
  },
  "language_info": {
   "codemirror_mode": {
    "name": "ipython",
    "version": 3
   },
   "file_extension": ".py",
   "mimetype": "text/x-python",
   "name": "python",
   "nbconvert_exporter": "python",
   "pygments_lexer": "ipython3",
   "version": "3.6.7"
  }
 },
 "nbformat": 4,
 "nbformat_minor": 4
}
